{
  "cells": [
    {
      "cell_type": "markdown",
      "metadata": {
        "id": "view-in-github",
        "colab_type": "text"
      },
      "source": [
        "<a href=\"https://colab.research.google.com/github/risavh/KickstarterAnalysis/blob/main/EDA3.ipynb\" target=\"_parent\"><img src=\"https://colab.research.google.com/assets/colab-badge.svg\" alt=\"Open In Colab\"/></a>"
      ]
    },
    {
      "cell_type": "code",
      "execution_count": null,
      "metadata": {
        "id": "3ANXjXVqveyA"
      },
      "outputs": [],
      "source": [
        "import pandas as pd\n",
        "import numpy as np\n",
        "import json\n",
        "from datetime import datetime\n",
        "\n",
        "import seaborn as sns\n",
        "import matplotlib.pyplot as plt\n",
        "\n",
        "%matplotlib inline"
      ]
    },
    {
      "cell_type": "code",
      "execution_count": null,
      "metadata": {
        "id": "MqWC10C2veyC",
        "outputId": "ffb535b1-a2ed-4474-a726-bd633eba5d0f"
      },
      "outputs": [
        {
          "name": "stderr",
          "output_type": "stream",
          "text": [
            "<ipython-input-2-51608dd4124c>:1: DtypeWarning: Columns (14,18,20,24) have mixed types. Specify dtype option on import or set low_memory=False.\n",
            "  df=pd.read_csv('CK_4_1.csv')\n"
          ]
        },
        {
          "data": {
            "text/plain": [
              "(84322, 38)"
            ]
          },
          "execution_count": 2,
          "metadata": {},
          "output_type": "execute_result"
        }
      ],
      "source": [
        "df=pd.read_csv('CK_4_1.csv')\n",
        "df.shape"
      ]
    },
    {
      "cell_type": "code",
      "execution_count": null,
      "metadata": {
        "id": "uvndRlDTveyE",
        "outputId": "9f92bf16-40e5-4cfe-d52a-5e614d65f5ce"
      },
      "outputs": [
        {
          "data": {
            "text/html": [
              "<div>\n",
              "<style scoped>\n",
              "    .dataframe tbody tr th:only-of-type {\n",
              "        vertical-align: middle;\n",
              "    }\n",
              "\n",
              "    .dataframe tbody tr th {\n",
              "        vertical-align: top;\n",
              "    }\n",
              "\n",
              "    .dataframe thead th {\n",
              "        text-align: right;\n",
              "    }\n",
              "</style>\n",
              "<table border=\"1\" class=\"dataframe\">\n",
              "  <thead>\n",
              "    <tr style=\"text-align: right;\">\n",
              "      <th></th>\n",
              "      <th>backers_count</th>\n",
              "      <th>blurb</th>\n",
              "      <th>category</th>\n",
              "      <th>converted_pledged_amount</th>\n",
              "      <th>country</th>\n",
              "      <th>country_displayable_name</th>\n",
              "      <th>created_at</th>\n",
              "      <th>creator</th>\n",
              "      <th>currency</th>\n",
              "      <th>currency_symbol</th>\n",
              "      <th>...</th>\n",
              "      <th>source_url</th>\n",
              "      <th>spotlight</th>\n",
              "      <th>staff_pick</th>\n",
              "      <th>state</th>\n",
              "      <th>state_changed_at</th>\n",
              "      <th>static_usd_rate</th>\n",
              "      <th>urls</th>\n",
              "      <th>usd_exchange_rate</th>\n",
              "      <th>usd_pledged</th>\n",
              "      <th>usd_type</th>\n",
              "    </tr>\n",
              "  </thead>\n",
              "  <tbody>\n",
              "    <tr>\n",
              "      <th>0</th>\n",
              "      <td>7</td>\n",
              "      <td>Teen sensation Emma Bilyou is one of the most ...</td>\n",
              "      <td>{\"id\":42,\"name\":\"Pop\",\"analytics_name\":\"Pop\",\"...</td>\n",
              "      <td>1500</td>\n",
              "      <td>US</td>\n",
              "      <td>the United States</td>\n",
              "      <td>1370358703</td>\n",
              "      <td>{\"id\":1720335385,\"name\":\"Dwaine Harris\",\"is_re...</td>\n",
              "      <td>USD</td>\n",
              "      <td>$</td>\n",
              "      <td>...</td>\n",
              "      <td>https://www.kickstarter.com/discover/categorie...</td>\n",
              "      <td>True</td>\n",
              "      <td>False</td>\n",
              "      <td>successful</td>\n",
              "      <td>1375629060</td>\n",
              "      <td>1.0</td>\n",
              "      <td>{\"web\":{\"project\":\"https://www.kickstarter.com...</td>\n",
              "      <td>1.0</td>\n",
              "      <td>1500.00</td>\n",
              "      <td>international</td>\n",
              "    </tr>\n",
              "    <tr>\n",
              "      <th>1</th>\n",
              "      <td>12</td>\n",
              "      <td>Thomas Nöla has recorded a new album. He would...</td>\n",
              "      <td>{\"id\":42,\"name\":\"Pop\",\"analytics_name\":\"Pop\",\"...</td>\n",
              "      <td>581</td>\n",
              "      <td>US</td>\n",
              "      <td>the United States</td>\n",
              "      <td>1363533018</td>\n",
              "      <td>{\"id\":474097748,\"name\":\"Thomas Nöla\",\"slug\":\"t...</td>\n",
              "      <td>USD</td>\n",
              "      <td>$</td>\n",
              "      <td>...</td>\n",
              "      <td>https://www.kickstarter.com/discover/categorie...</td>\n",
              "      <td>True</td>\n",
              "      <td>False</td>\n",
              "      <td>successful</td>\n",
              "      <td>1373056493</td>\n",
              "      <td>1.0</td>\n",
              "      <td>{\"web\":{\"project\":\"https://www.kickstarter.com...</td>\n",
              "      <td>1.0</td>\n",
              "      <td>581.66</td>\n",
              "      <td>international</td>\n",
              "    </tr>\n",
              "    <tr>\n",
              "      <th>2</th>\n",
              "      <td>134</td>\n",
              "      <td>The world's first ever full-length album of br...</td>\n",
              "      <td>{\"id\":42,\"name\":\"Pop\",\"analytics_name\":\"Pop\",\"...</td>\n",
              "      <td>15631</td>\n",
              "      <td>US</td>\n",
              "      <td>the United States</td>\n",
              "      <td>1369246990</td>\n",
              "      <td>{\"id\":1877703222,\"name\":\"Kathleen Smith\",\"is_r...</td>\n",
              "      <td>USD</td>\n",
              "      <td>$</td>\n",
              "      <td>...</td>\n",
              "      <td>https://www.kickstarter.com/discover/categorie...</td>\n",
              "      <td>True</td>\n",
              "      <td>False</td>\n",
              "      <td>successful</td>\n",
              "      <td>1373036535</td>\n",
              "      <td>1.0</td>\n",
              "      <td>{\"web\":{\"project\":\"https://www.kickstarter.com...</td>\n",
              "      <td>1.0</td>\n",
              "      <td>15631.00</td>\n",
              "      <td>international</td>\n",
              "    </tr>\n",
              "    <tr>\n",
              "      <th>3</th>\n",
              "      <td>76</td>\n",
              "      <td>Love, laugh, dance, and cry, to ten new synthp...</td>\n",
              "      <td>{\"id\":42,\"name\":\"Pop\",\"analytics_name\":\"Pop\",\"...</td>\n",
              "      <td>4177</td>\n",
              "      <td>US</td>\n",
              "      <td>the United States</td>\n",
              "      <td>1364398436</td>\n",
              "      <td>{\"id\":1680516234,\"name\":\"Kite Flying Robot\",\"s...</td>\n",
              "      <td>USD</td>\n",
              "      <td>$</td>\n",
              "      <td>...</td>\n",
              "      <td>https://www.kickstarter.com/discover/categorie...</td>\n",
              "      <td>True</td>\n",
              "      <td>False</td>\n",
              "      <td>successful</td>\n",
              "      <td>1372680035</td>\n",
              "      <td>1.0</td>\n",
              "      <td>{\"web\":{\"project\":\"https://www.kickstarter.com...</td>\n",
              "      <td>1.0</td>\n",
              "      <td>4177.00</td>\n",
              "      <td>international</td>\n",
              "    </tr>\n",
              "    <tr>\n",
              "      <th>4</th>\n",
              "      <td>399</td>\n",
              "      <td>An all new recording from Christian music vete...</td>\n",
              "      <td>{\"id\":42,\"name\":\"Pop\",\"analytics_name\":\"Pop\",\"...</td>\n",
              "      <td>41100</td>\n",
              "      <td>US</td>\n",
              "      <td>the United States</td>\n",
              "      <td>1366950463</td>\n",
              "      <td>{\"id\":363468529,\"name\":\"CRYSTAL LEWIS\",\"slug\":...</td>\n",
              "      <td>USD</td>\n",
              "      <td>$</td>\n",
              "      <td>...</td>\n",
              "      <td>https://www.kickstarter.com/discover/categorie...</td>\n",
              "      <td>True</td>\n",
              "      <td>False</td>\n",
              "      <td>successful</td>\n",
              "      <td>1372658437</td>\n",
              "      <td>1.0</td>\n",
              "      <td>{\"web\":{\"project\":\"https://www.kickstarter.com...</td>\n",
              "      <td>1.0</td>\n",
              "      <td>41100.25</td>\n",
              "      <td>international</td>\n",
              "    </tr>\n",
              "  </tbody>\n",
              "</table>\n",
              "<p>5 rows × 39 columns</p>\n",
              "</div>"
            ],
            "text/plain": [
              "   backers_count                                              blurb  \\\n",
              "0              7  Teen sensation Emma Bilyou is one of the most ...   \n",
              "1             12  Thomas Nöla has recorded a new album. He would...   \n",
              "2            134  The world's first ever full-length album of br...   \n",
              "3             76  Love, laugh, dance, and cry, to ten new synthp...   \n",
              "4            399  An all new recording from Christian music vete...   \n",
              "\n",
              "                                            category  \\\n",
              "0  {\"id\":42,\"name\":\"Pop\",\"analytics_name\":\"Pop\",\"...   \n",
              "1  {\"id\":42,\"name\":\"Pop\",\"analytics_name\":\"Pop\",\"...   \n",
              "2  {\"id\":42,\"name\":\"Pop\",\"analytics_name\":\"Pop\",\"...   \n",
              "3  {\"id\":42,\"name\":\"Pop\",\"analytics_name\":\"Pop\",\"...   \n",
              "4  {\"id\":42,\"name\":\"Pop\",\"analytics_name\":\"Pop\",\"...   \n",
              "\n",
              "   converted_pledged_amount country country_displayable_name  created_at  \\\n",
              "0                      1500      US        the United States  1370358703   \n",
              "1                       581      US        the United States  1363533018   \n",
              "2                     15631      US        the United States  1369246990   \n",
              "3                      4177      US        the United States  1364398436   \n",
              "4                     41100      US        the United States  1366950463   \n",
              "\n",
              "                                             creator currency currency_symbol  \\\n",
              "0  {\"id\":1720335385,\"name\":\"Dwaine Harris\",\"is_re...      USD               $   \n",
              "1  {\"id\":474097748,\"name\":\"Thomas Nöla\",\"slug\":\"t...      USD               $   \n",
              "2  {\"id\":1877703222,\"name\":\"Kathleen Smith\",\"is_r...      USD               $   \n",
              "3  {\"id\":1680516234,\"name\":\"Kite Flying Robot\",\"s...      USD               $   \n",
              "4  {\"id\":363468529,\"name\":\"CRYSTAL LEWIS\",\"slug\":...      USD               $   \n",
              "\n",
              "   ...                                         source_url spotlight  \\\n",
              "0  ...  https://www.kickstarter.com/discover/categorie...      True   \n",
              "1  ...  https://www.kickstarter.com/discover/categorie...      True   \n",
              "2  ...  https://www.kickstarter.com/discover/categorie...      True   \n",
              "3  ...  https://www.kickstarter.com/discover/categorie...      True   \n",
              "4  ...  https://www.kickstarter.com/discover/categorie...      True   \n",
              "\n",
              "   staff_pick       state  state_changed_at  static_usd_rate  \\\n",
              "0       False  successful        1375629060              1.0   \n",
              "1       False  successful        1373056493              1.0   \n",
              "2       False  successful        1373036535              1.0   \n",
              "3       False  successful        1372680035              1.0   \n",
              "4       False  successful        1372658437              1.0   \n",
              "\n",
              "                                                urls  usd_exchange_rate  \\\n",
              "0  {\"web\":{\"project\":\"https://www.kickstarter.com...                1.0   \n",
              "1  {\"web\":{\"project\":\"https://www.kickstarter.com...                1.0   \n",
              "2  {\"web\":{\"project\":\"https://www.kickstarter.com...                1.0   \n",
              "3  {\"web\":{\"project\":\"https://www.kickstarter.com...                1.0   \n",
              "4  {\"web\":{\"project\":\"https://www.kickstarter.com...                1.0   \n",
              "\n",
              "   usd_pledged       usd_type  \n",
              "0      1500.00  international  \n",
              "1       581.66  international  \n",
              "2     15631.00  international  \n",
              "3      4177.00  international  \n",
              "4     41100.25  international  \n",
              "\n",
              "[5 rows x 39 columns]"
            ]
          },
          "execution_count": 4,
          "metadata": {},
          "output_type": "execute_result"
        }
      ],
      "source": [
        "df.head()"
      ]
    },
    {
      "cell_type": "code",
      "execution_count": null,
      "metadata": {
        "id": "ipQoRobdveyF",
        "outputId": "41f175b4-e6b7-4722-ddef-310f08049bbf"
      },
      "outputs": [
        {
          "data": {
            "text/plain": [
              "backers_count                                                              12\n",
              "blurb                       Thomas Nöla has recorded a new album. He would...\n",
              "category                    {\"id\":42,\"name\":\"Pop\",\"analytics_name\":\"Pop\",\"...\n",
              "converted_pledged_amount                                                  581\n",
              "country                                                                    US\n",
              "country_displayable_name                                    the United States\n",
              "created_at                                                         1363533018\n",
              "creator                     {\"id\":474097748,\"name\":\"Thomas Nöla\",\"slug\":\"t...\n",
              "currency                                                                  USD\n",
              "currency_symbol                                                             $\n",
              "currency_trailing_code                                                   True\n",
              "current_currency                                                          USD\n",
              "deadline                                                           1373056493\n",
              "disable_communication                                                   False\n",
              "friends                                                                   NaN\n",
              "fx_rate                                                                   1.0\n",
              "goal                                                                    500.0\n",
              "id                                                                 1750442381\n",
              "is_backing                                                                NaN\n",
              "is_starrable                                                            False\n",
              "is_starred                                                                NaN\n",
              "launched_at                                                        1370464493\n",
              "location                    {\"id\":2367105,\"name\":\"Boston\",\"slug\":\"boston-m...\n",
              "name                        Thomas Nöla & The Black Hole - \"Future Illusions\"\n",
              "permissions                                                               NaN\n",
              "photo                       {\"key\":\"assets/011/495/110/a546e1ffebdef4ddea7...\n",
              "pledged                                                                581.66\n",
              "profile                     {\"id\":504207,\"project_id\":504207,\"state\":\"inac...\n",
              "slug                          thomas-nola-and-the-black-hole-future-illusions\n",
              "source_url                  https://www.kickstarter.com/discover/categorie...\n",
              "spotlight                                                                True\n",
              "staff_pick                                                              False\n",
              "state                                                              successful\n",
              "state_changed_at                                                   1373056493\n",
              "static_usd_rate                                                           1.0\n",
              "urls                        {\"web\":{\"project\":\"https://www.kickstarter.com...\n",
              "usd_exchange_rate                                                         1.0\n",
              "usd_pledged                                                            581.66\n",
              "usd_type                                                        international\n",
              "Name: 1, dtype: object"
            ]
          },
          "execution_count": 5,
          "metadata": {},
          "output_type": "execute_result"
        }
      ],
      "source": [
        "df.loc[1].T"
      ]
    },
    {
      "cell_type": "code",
      "execution_count": null,
      "metadata": {
        "id": "QvVqF7BOveyF",
        "outputId": "1138af6b-c9bc-4ec0-b389-c7780e7627ce"
      },
      "outputs": [
        {
          "data": {
            "text/plain": [
              "<matplotlib.axes._subplots.AxesSubplot at 0x285f9edc3d0>"
            ]
          },
          "execution_count": 35,
          "metadata": {},
          "output_type": "execute_result"
        },
        {
          "data": {
            "image/png": "[encoded data removed]",
            "text/plain": [
              "<Figure size 432x288 with 1 Axes>"
            ]
          },
          "metadata": {
            "needs_background": "light"
          },
          "output_type": "display_data"
        }
      ],
      "source": [
        "missing_cols=df.isnull().sum()/df.shape[0]\n",
        "missing_cols=missing_cols[missing_cols>0]\n",
        "missing_cols.sort_values().plot(kind='bar')"
      ]
    },
    {
      "cell_type": "code",
      "execution_count": null,
      "metadata": {
        "id": "vd2YO0PHveyG",
        "outputId": "9ae53313-2203-42ba-b803-ebc12efb3248"
      },
      "outputs": [
        {
          "data": {
            "text/plain": [
              "(3633, 39)"
            ]
          },
          "execution_count": 7,
          "metadata": {},
          "output_type": "execute_result"
        }
      ],
      "source": [
        "df1=df.loc[df['location'].notnull(),:].reset_index(drop=True)\n",
        "df1.shape"
      ]
    },
    {
      "cell_type": "code",
      "execution_count": null,
      "metadata": {
        "id": "aDOfg8hhveyG"
      },
      "outputs": [],
      "source": [
        "d_ctgy=pd.DataFrame(df1.category.apply(json.loads).values.tolist() )\n",
        "d_location=pd.DataFrame(df1.location.apply(json.loads).values.tolist() )"
      ]
    },
    {
      "cell_type": "code",
      "execution_count": null,
      "metadata": {
        "id": "jsrlng6vveyH"
      },
      "outputs": [],
      "source": [
        "d_ctgy.columns=[\"ctgy_\"+col for col in d_ctgy.columns]\n",
        "d_location.columns=[\"lc_\"+col for col in d_location.columns]"
      ]
    },
    {
      "cell_type": "code",
      "execution_count": null,
      "metadata": {
        "id": "QDsAWE1BveyH"
      },
      "outputs": [],
      "source": [
        "cols_to_drop=['photo','category','location','friends','is_backing','permissions','is_starred','creator','source_url']"
      ]
    },
    {
      "cell_type": "code",
      "execution_count": null,
      "metadata": {
        "id": "DH4clr2bveyI"
      },
      "outputs": [],
      "source": [
        "df1.drop(cols_to_drop,axis=1,inplace=True)"
      ]
    },
    {
      "cell_type": "code",
      "execution_count": null,
      "metadata": {
        "id": "GULPr-SXveyI",
        "outputId": "f4b77463-0797-4205-d3d8-a36e2dc82f5a"
      },
      "outputs": [
        {
          "data": {
            "text/plain": [
              "(3633, 9)"
            ]
          },
          "execution_count": 12,
          "metadata": {},
          "output_type": "execute_result"
        }
      ],
      "source": [
        "d_ctgy.shape"
      ]
    },
    {
      "cell_type": "code",
      "execution_count": null,
      "metadata": {
        "id": "-27l42lXveyI",
        "outputId": "b7b4bfec-73d6-4591-c9ba-31f0df403e1a"
      },
      "outputs": [
        {
          "data": {
            "text/plain": [
              "(3633, 12)"
            ]
          },
          "execution_count": 13,
          "metadata": {},
          "output_type": "execute_result"
        }
      ],
      "source": [
        "d_location.shape"
      ]
    },
    {
      "cell_type": "code",
      "execution_count": null,
      "metadata": {
        "id": "4kfeSE8NveyJ",
        "outputId": "528eb15a-88bb-49f9-af11-05862eb72de0"
      },
      "outputs": [
        {
          "data": {
            "text/plain": [
              "(3633, 51)"
            ]
          },
          "execution_count": 14,
          "metadata": {},
          "output_type": "execute_result"
        }
      ],
      "source": [
        "d1=pd.concat([df1,d_location,d_ctgy],axis=1)\n",
        "d1.shape"
      ]
    },
    {
      "cell_type": "code",
      "execution_count": null,
      "metadata": {
        "id": "d6vg2hjXveyJ",
        "outputId": "c75a3b1b-5154-4ab7-fa4d-d6f005372f74"
      },
      "outputs": [
        {
          "data": {
            "text/plain": [
              "lc_state            0.000274\n",
              "lc_slug             0.001916\n",
              "usd_type            0.019704\n",
              "ctgy_parent_id      0.100164\n",
              "ctgy_parent_name    0.100164\n",
              "dtype: float64"
            ]
          },
          "execution_count": 15,
          "metadata": {},
          "output_type": "execute_result"
        }
      ],
      "source": [
        "missing_cols=d1.isnull().sum()/df.shape[0]\n",
        "missing_cols=missing_cols[missing_cols>0]\n",
        "missing_cols.sort_values()"
      ]
    },
    {
      "cell_type": "code",
      "execution_count": null,
      "metadata": {
        "id": "5oAfp_T2veyK",
        "outputId": "f2813818-c189-404a-ca77-d4ce2aa26002"
      },
      "outputs": [
        {
          "data": {
            "text/plain": [
              "backers_count                                                              12\n",
              "blurb                       Thomas Nöla has recorded a new album. He would...\n",
              "converted_pledged_amount                                                  581\n",
              "country                                                                    US\n",
              "country_displayable_name                                    the United States\n",
              "created_at                                                         1363533018\n",
              "currency                                                                  USD\n",
              "currency_symbol                                                             $\n",
              "currency_trailing_code                                                   True\n",
              "current_currency                                                          USD\n",
              "deadline                                                           1373056493\n",
              "disable_communication                                                   False\n",
              "fx_rate                                                                   1.0\n",
              "goal                                                                    500.0\n",
              "id                                                                 1750442381\n",
              "is_starrable                                                            False\n",
              "launched_at                                                        1370464493\n",
              "name                        Thomas Nöla & The Black Hole - \"Future Illusions\"\n",
              "pledged                                                                581.66\n",
              "profile                     {\"id\":504207,\"project_id\":504207,\"state\":\"inac...\n",
              "slug                          thomas-nola-and-the-black-hole-future-illusions\n",
              "spotlight                                                                True\n",
              "staff_pick                                                              False\n",
              "state                                                              successful\n",
              "state_changed_at                                                   1373056493\n",
              "static_usd_rate                                                           1.0\n",
              "urls                        {\"web\":{\"project\":\"https://www.kickstarter.com...\n",
              "usd_exchange_rate                                                         1.0\n",
              "usd_pledged                                                            581.66\n",
              "usd_type                                                        international\n",
              "lc_id                                                                 2367105\n",
              "lc_name                                                                Boston\n",
              "lc_slug                                                             boston-ma\n",
              "lc_short_name                                                      Boston, MA\n",
              "lc_displayable_name                                                Boston, MA\n",
              "lc_localized_name                                                      Boston\n",
              "lc_country                                                                 US\n",
              "lc_state                                                                   MA\n",
              "lc_type                                                                  Town\n",
              "lc_is_root                                                              False\n",
              "lc_expanded_country                                             United States\n",
              "lc_urls                     {'web': {'discover': 'https://www.kickstarter....\n",
              "ctgy_id                                                                    42\n",
              "ctgy_name                                                                 Pop\n",
              "ctgy_analytics_name                                                       Pop\n",
              "ctgy_slug                                                           music/pop\n",
              "ctgy_position                                                              14\n",
              "ctgy_parent_id                                                           14.0\n",
              "ctgy_parent_name                                                        Music\n",
              "ctgy_color                                                           10878931\n",
              "ctgy_urls                   {'web': {'discover': 'http://www.kickstarter.c...\n",
              "Name: 1, dtype: object"
            ]
          },
          "execution_count": 16,
          "metadata": {},
          "output_type": "execute_result"
        }
      ],
      "source": [
        "d1.loc[1].T"
      ]
    },
    {
      "cell_type": "code",
      "execution_count": null,
      "metadata": {
        "id": "TiExNt21veyL"
      },
      "outputs": [],
      "source": [
        "cols_to_drop=['profile','urls','lc_urls','ctgy_urls','country_displayable_name','currency_symbol','currency_trailing_code','id','static_usd_rate','lc_id',\\\n",
        "              'lc_slug','lc_short_name','lc_displayable_name','lc_country',\\\n",
        "              'lc_is_root','ctgy_id','ctgy_analytics_name','ctgy_position','ctgy_parent_id','ctgy_color']\n",
        "d1.drop(cols_to_drop,axis=1,inplace=True)"
      ]
    },
    {
      "cell_type": "code",
      "execution_count": null,
      "metadata": {
        "id": "EX_v1D-7veyL",
        "outputId": "26efcc08-157d-496a-9d4d-7ac1efc66a05"
      },
      "outputs": [
        {
          "data": {
            "text/plain": [
              "backers_count                                                              12\n",
              "blurb                       Thomas Nöla has recorded a new album. He would...\n",
              "converted_pledged_amount                                                  581\n",
              "country                                                                    US\n",
              "created_at                                                         1363533018\n",
              "currency                                                                  USD\n",
              "current_currency                                                          USD\n",
              "deadline                                                           1373056493\n",
              "disable_communication                                                   False\n",
              "fx_rate                                                                   1.0\n",
              "goal                                                                    500.0\n",
              "is_starrable                                                            False\n",
              "launched_at                                                        1370464493\n",
              "name                        Thomas Nöla & The Black Hole - \"Future Illusions\"\n",
              "pledged                                                                581.66\n",
              "slug                          thomas-nola-and-the-black-hole-future-illusions\n",
              "spotlight                                                                True\n",
              "staff_pick                                                              False\n",
              "state                                                              successful\n",
              "state_changed_at                                                   1373056493\n",
              "usd_exchange_rate                                                         1.0\n",
              "usd_pledged                                                            581.66\n",
              "usd_type                                                        international\n",
              "lc_name                                                                Boston\n",
              "lc_localized_name                                                      Boston\n",
              "lc_state                                                                   MA\n",
              "lc_type                                                                  Town\n",
              "lc_expanded_country                                             United States\n",
              "ctgy_name                                                                 Pop\n",
              "ctgy_slug                                                           music/pop\n",
              "ctgy_parent_name                                                        Music\n",
              "Name: 1, dtype: object"
            ]
          },
          "execution_count": 18,
          "metadata": {},
          "output_type": "execute_result"
        }
      ],
      "source": [
        "d1.loc[1].T"
      ]
    },
    {
      "cell_type": "code",
      "execution_count": null,
      "metadata": {
        "id": "IF-xKVH6veyL"
      },
      "outputs": [],
      "source": [
        "d1['deadline']=d1.deadline.apply(lambda x :datetime.utcfromtimestamp(x).strftime('%Y-%m-%d %H:%M:%S'))\n",
        "d1['launched_at']=d1.launched_at.apply(lambda x :datetime.utcfromtimestamp(x).strftime('%Y-%m-%d %H:%M:%S'))\n",
        "d1['created_at']=d1.created_at.apply(lambda x :datetime.utcfromtimestamp(x).strftime('%Y-%m-%d %H:%M:%S'))\n",
        "d1['state_changed_at']=d1.state_changed_at.apply(lambda x :datetime.utcfromtimestamp(x).strftime('%Y-%m-%d %H:%M:%S'))\n",
        "\n"
      ]
    },
    {
      "cell_type": "code",
      "execution_count": null,
      "metadata": {
        "id": "HIZxIFgdveyM",
        "outputId": "5545c04a-e9a3-4664-ffc2-0255f0c6bcdb"
      },
      "outputs": [
        {
          "data": {
            "text/plain": [
              "backers_count                                                              12\n",
              "blurb                       Thomas Nöla has recorded a new album. He would...\n",
              "converted_pledged_amount                                                  581\n",
              "country                                                                    US\n",
              "created_at                                                2013-03-17 15:10:18\n",
              "currency                                                                  USD\n",
              "current_currency                                                          USD\n",
              "deadline                                                  2013-07-05 20:34:53\n",
              "disable_communication                                                   False\n",
              "fx_rate                                                                   1.0\n",
              "goal                                                                    500.0\n",
              "is_starrable                                                            False\n",
              "launched_at                                               2013-06-05 20:34:53\n",
              "name                        Thomas Nöla & The Black Hole - \"Future Illusions\"\n",
              "pledged                                                                581.66\n",
              "slug                          thomas-nola-and-the-black-hole-future-illusions\n",
              "spotlight                                                                True\n",
              "staff_pick                                                              False\n",
              "state                                                              successful\n",
              "state_changed_at                                          2013-07-05 20:34:53\n",
              "usd_exchange_rate                                                         1.0\n",
              "usd_pledged                                                            581.66\n",
              "usd_type                                                        international\n",
              "lc_name                                                                Boston\n",
              "lc_localized_name                                                      Boston\n",
              "lc_state                                                                   MA\n",
              "lc_type                                                                  Town\n",
              "lc_expanded_country                                             United States\n",
              "ctgy_name                                                                 Pop\n",
              "ctgy_slug                                                           music/pop\n",
              "ctgy_parent_name                                                        Music\n",
              "Name: 1, dtype: object"
            ]
          },
          "execution_count": 20,
          "metadata": {},
          "output_type": "execute_result"
        }
      ],
      "source": [
        "d1.loc[1].T"
      ]
    },
    {
      "cell_type": "code",
      "execution_count": null,
      "metadata": {
        "id": "6YN108z4veyM",
        "outputId": "29672906-8590-4f96-b3e1-05bf77a32825"
      },
      "outputs": [
        {
          "data": {
            "text/plain": [
              "(3633, 31)"
            ]
          },
          "execution_count": 21,
          "metadata": {},
          "output_type": "execute_result"
        }
      ],
      "source": [
        "d1.shape"
      ]
    },
    {
      "cell_type": "code",
      "execution_count": null,
      "metadata": {
        "id": "5NaX69GsveyM",
        "outputId": "bd752562-c60b-448d-e6c9-eee178942991"
      },
      "outputs": [
        {
          "data": {
            "text/html": [
              "<div>\n",
              "<style scoped>\n",
              "    .dataframe tbody tr th:only-of-type {\n",
              "        vertical-align: middle;\n",
              "    }\n",
              "\n",
              "    .dataframe tbody tr th {\n",
              "        vertical-align: top;\n",
              "    }\n",
              "\n",
              "    .dataframe thead th {\n",
              "        text-align: right;\n",
              "    }\n",
              "</style>\n",
              "<table border=\"1\" class=\"dataframe\">\n",
              "  <thead>\n",
              "    <tr style=\"text-align: right;\">\n",
              "      <th></th>\n",
              "      <th>backers_count</th>\n",
              "      <th>blurb</th>\n",
              "      <th>converted_pledged_amount</th>\n",
              "      <th>country</th>\n",
              "      <th>created_at</th>\n",
              "      <th>currency</th>\n",
              "      <th>current_currency</th>\n",
              "      <th>deadline</th>\n",
              "      <th>disable_communication</th>\n",
              "      <th>fx_rate</th>\n",
              "      <th>...</th>\n",
              "      <th>usd_pledged</th>\n",
              "      <th>usd_type</th>\n",
              "      <th>lc_name</th>\n",
              "      <th>lc_localized_name</th>\n",
              "      <th>lc_state</th>\n",
              "      <th>lc_type</th>\n",
              "      <th>lc_expanded_country</th>\n",
              "      <th>ctgy_name</th>\n",
              "      <th>ctgy_slug</th>\n",
              "      <th>ctgy_parent_name</th>\n",
              "    </tr>\n",
              "  </thead>\n",
              "  <tbody>\n",
              "    <tr>\n",
              "      <th>0</th>\n",
              "      <td>7</td>\n",
              "      <td>Teen sensation Emma Bilyou is one of the most ...</td>\n",
              "      <td>1500</td>\n",
              "      <td>US</td>\n",
              "      <td>2013-06-04 15:11:43</td>\n",
              "      <td>USD</td>\n",
              "      <td>USD</td>\n",
              "      <td>2013-08-04 15:11:00</td>\n",
              "      <td>False</td>\n",
              "      <td>1.0</td>\n",
              "      <td>...</td>\n",
              "      <td>1500.00</td>\n",
              "      <td>international</td>\n",
              "      <td>Paramus</td>\n",
              "      <td>Paramus</td>\n",
              "      <td>NJ</td>\n",
              "      <td>Town</td>\n",
              "      <td>United States</td>\n",
              "      <td>Pop</td>\n",
              "      <td>music/pop</td>\n",
              "      <td>Music</td>\n",
              "    </tr>\n",
              "    <tr>\n",
              "      <th>1</th>\n",
              "      <td>12</td>\n",
              "      <td>Thomas Nöla has recorded a new album. He would...</td>\n",
              "      <td>581</td>\n",
              "      <td>US</td>\n",
              "      <td>2013-03-17 15:10:18</td>\n",
              "      <td>USD</td>\n",
              "      <td>USD</td>\n",
              "      <td>2013-07-05 20:34:53</td>\n",
              "      <td>False</td>\n",
              "      <td>1.0</td>\n",
              "      <td>...</td>\n",
              "      <td>581.66</td>\n",
              "      <td>international</td>\n",
              "      <td>Boston</td>\n",
              "      <td>Boston</td>\n",
              "      <td>MA</td>\n",
              "      <td>Town</td>\n",
              "      <td>United States</td>\n",
              "      <td>Pop</td>\n",
              "      <td>music/pop</td>\n",
              "      <td>Music</td>\n",
              "    </tr>\n",
              "    <tr>\n",
              "      <th>2</th>\n",
              "      <td>134</td>\n",
              "      <td>The world's first ever full-length album of br...</td>\n",
              "      <td>15631</td>\n",
              "      <td>US</td>\n",
              "      <td>2013-05-22 18:23:10</td>\n",
              "      <td>USD</td>\n",
              "      <td>USD</td>\n",
              "      <td>2013-07-05 15:02:13</td>\n",
              "      <td>False</td>\n",
              "      <td>1.0</td>\n",
              "      <td>...</td>\n",
              "      <td>15631.00</td>\n",
              "      <td>international</td>\n",
              "      <td>Los Angeles</td>\n",
              "      <td>Los Angeles</td>\n",
              "      <td>CA</td>\n",
              "      <td>Town</td>\n",
              "      <td>United States</td>\n",
              "      <td>Pop</td>\n",
              "      <td>music/pop</td>\n",
              "      <td>Music</td>\n",
              "    </tr>\n",
              "    <tr>\n",
              "      <th>3</th>\n",
              "      <td>76</td>\n",
              "      <td>Love, laugh, dance, and cry, to ten new synthp...</td>\n",
              "      <td>4177</td>\n",
              "      <td>US</td>\n",
              "      <td>2013-03-27 15:33:56</td>\n",
              "      <td>USD</td>\n",
              "      <td>USD</td>\n",
              "      <td>2013-07-01 12:00:00</td>\n",
              "      <td>False</td>\n",
              "      <td>1.0</td>\n",
              "      <td>...</td>\n",
              "      <td>4177.00</td>\n",
              "      <td>international</td>\n",
              "      <td>Oklahoma City</td>\n",
              "      <td>Oklahoma City</td>\n",
              "      <td>OK</td>\n",
              "      <td>Town</td>\n",
              "      <td>United States</td>\n",
              "      <td>Pop</td>\n",
              "      <td>music/pop</td>\n",
              "      <td>Music</td>\n",
              "    </tr>\n",
              "    <tr>\n",
              "      <th>4</th>\n",
              "      <td>399</td>\n",
              "      <td>An all new recording from Christian music vete...</td>\n",
              "      <td>41100</td>\n",
              "      <td>US</td>\n",
              "      <td>2013-04-26 04:27:43</td>\n",
              "      <td>USD</td>\n",
              "      <td>USD</td>\n",
              "      <td>2013-07-01 06:00:37</td>\n",
              "      <td>False</td>\n",
              "      <td>1.0</td>\n",
              "      <td>...</td>\n",
              "      <td>41100.25</td>\n",
              "      <td>international</td>\n",
              "      <td>Kalispell</td>\n",
              "      <td>Kalispell</td>\n",
              "      <td>MT</td>\n",
              "      <td>Town</td>\n",
              "      <td>United States</td>\n",
              "      <td>Pop</td>\n",
              "      <td>music/pop</td>\n",
              "      <td>Music</td>\n",
              "    </tr>\n",
              "  </tbody>\n",
              "</table>\n",
              "<p>5 rows × 31 columns</p>\n",
              "</div>"
            ],
            "text/plain": [
              "   backers_count                                              blurb  \\\n",
              "0              7  Teen sensation Emma Bilyou is one of the most ...   \n",
              "1             12  Thomas Nöla has recorded a new album. He would...   \n",
              "2            134  The world's first ever full-length album of br...   \n",
              "3             76  Love, laugh, dance, and cry, to ten new synthp...   \n",
              "4            399  An all new recording from Christian music vete...   \n",
              "\n",
              "   converted_pledged_amount country           created_at currency  \\\n",
              "0                      1500      US  2013-06-04 15:11:43      USD   \n",
              "1                       581      US  2013-03-17 15:10:18      USD   \n",
              "2                     15631      US  2013-05-22 18:23:10      USD   \n",
              "3                      4177      US  2013-03-27 15:33:56      USD   \n",
              "4                     41100      US  2013-04-26 04:27:43      USD   \n",
              "\n",
              "  current_currency             deadline  disable_communication  fx_rate  ...  \\\n",
              "0              USD  2013-08-04 15:11:00                  False      1.0  ...   \n",
              "1              USD  2013-07-05 20:34:53                  False      1.0  ...   \n",
              "2              USD  2013-07-05 15:02:13                  False      1.0  ...   \n",
              "3              USD  2013-07-01 12:00:00                  False      1.0  ...   \n",
              "4              USD  2013-07-01 06:00:37                  False      1.0  ...   \n",
              "\n",
              "   usd_pledged       usd_type        lc_name lc_localized_name  lc_state  \\\n",
              "0      1500.00  international        Paramus           Paramus        NJ   \n",
              "1       581.66  international         Boston            Boston        MA   \n",
              "2     15631.00  international    Los Angeles       Los Angeles        CA   \n",
              "3      4177.00  international  Oklahoma City     Oklahoma City        OK   \n",
              "4     41100.25  international      Kalispell         Kalispell        MT   \n",
              "\n",
              "  lc_type  lc_expanded_country  ctgy_name  ctgy_slug ctgy_parent_name  \n",
              "0    Town        United States        Pop  music/pop            Music  \n",
              "1    Town        United States        Pop  music/pop            Music  \n",
              "2    Town        United States        Pop  music/pop            Music  \n",
              "3    Town        United States        Pop  music/pop            Music  \n",
              "4    Town        United States        Pop  music/pop            Music  \n",
              "\n",
              "[5 rows x 31 columns]"
            ]
          },
          "execution_count": 22,
          "metadata": {},
          "output_type": "execute_result"
        }
      ],
      "source": [
        "d1.head()"
      ]
    },
    {
      "cell_type": "code",
      "execution_count": null,
      "metadata": {
        "id": "gu-XsyQeveyN",
        "outputId": "e466ad11-bc2d-4f0d-dc1b-6d923ae0f545"
      },
      "outputs": [
        {
          "data": {
            "text/plain": [
              "0      2013-08-04 15:11:00\n",
              "1      2013-07-05 20:34:53\n",
              "2      2013-07-05 15:02:13\n",
              "3      2013-07-01 12:00:00\n",
              "4      2013-07-01 06:00:37\n",
              "               ...        \n",
              "3628   2019-09-17 21:59:23\n",
              "3629   2011-01-01 04:30:00\n",
              "3630   2010-12-25 01:00:00\n",
              "3631   2011-01-01 02:00:00\n",
              "3632   2010-12-31 05:00:00\n",
              "Name: deadline, Length: 3633, dtype: datetime64[ns]"
            ]
          },
          "execution_count": 23,
          "metadata": {},
          "output_type": "execute_result"
        }
      ],
      "source": [
        "pd.to_datetime(d1['deadline'])"
      ]
    },
    {
      "cell_type": "code",
      "execution_count": null,
      "metadata": {
        "id": "zr0HadIrveyN",
        "outputId": "7208bcae-d656-4aa7-b9bf-3a332444ef9e"
      },
      "outputs": [
        {
          "data": {
            "text/plain": [
              "successful    3006\n",
              "failed         518\n",
              "canceled       109\n",
              "Name: state, dtype: int64"
            ]
          },
          "execution_count": 37,
          "metadata": {},
          "output_type": "execute_result"
        }
      ],
      "source": [
        "d1.state.value_counts()"
      ]
    },
    {
      "cell_type": "code",
      "execution_count": null,
      "metadata": {
        "id": "qqgPABmFveyO"
      },
      "outputs": [],
      "source": [
        "d1[[\"deadline\", \"launched_at\", \"created_at\",\"state_changed_at\"]] = d1[[\"deadline\", \"launched_at\", \"created_at\",\"state_changed_at\"]].apply(pd.to_datetime)\n"
      ]
    },
    {
      "cell_type": "code",
      "execution_count": null,
      "metadata": {
        "id": "WjViMJZmveyO"
      },
      "outputs": [],
      "source": [
        "d1['daysToDeadline']=(d1['deadline'] - d1['launched_at']).dt.days"
      ]
    },
    {
      "cell_type": "code",
      "execution_count": null,
      "metadata": {
        "id": "hHnKJNyvveyP",
        "outputId": "75d00d81-273b-45b2-8f6a-c0a607f9a713"
      },
      "outputs": [
        {
          "data": {
            "text/plain": [
              "Pop                   700\n",
              "Fiction               672\n",
              "Graphic Novels        660\n",
              "Web                   180\n",
              "Journalism            176\n",
              "Product Design        173\n",
              "Food                  167\n",
              "Drinks                143\n",
              "Plays                 110\n",
              "Print                 107\n",
              "Small Batch            86\n",
              "Audio                  81\n",
              "Restaurants            78\n",
              "Video                  46\n",
              "Vegan                  46\n",
              "Farms                  40\n",
              "Cookbooks              39\n",
              "Food Trucks            24\n",
              "Design                 23\n",
              "Spaces                 18\n",
              "Toys                   15\n",
              "Photo                  13\n",
              "Graphic Design         10\n",
              "Farmer's Markets        7\n",
              "Events                  6\n",
              "Community Gardens       5\n",
              "Architecture            4\n",
              "Typography              2\n",
              "Interactive Design      1\n",
              "Bacon                   1\n",
              "Name: ctgy_name, dtype: int64"
            ]
          },
          "execution_count": 38,
          "metadata": {},
          "output_type": "execute_result"
        }
      ],
      "source": [
        "d1.ctgy_name.value_counts()"
      ]
    },
    {
      "cell_type": "code",
      "execution_count": null,
      "metadata": {
        "id": "EmGnuRhKveyP",
        "outputId": "d6f5a896-37e6-4340-e591-541e4f1dba69"
      },
      "outputs": [
        {
          "data": {
            "text/plain": [
              "30"
            ]
          },
          "execution_count": 39,
          "metadata": {},
          "output_type": "execute_result"
        }
      ],
      "source": [
        "d1.ctgy_name.value_counts().shape[0]"
      ]
    },
    {
      "cell_type": "code",
      "execution_count": null,
      "metadata": {
        "id": "onTt7dCYveyP",
        "outputId": "dd075b6e-7ffd-487c-d0a9-fd9001a32a79"
      },
      "outputs": [
        {
          "data": {
            "text/html": [
              "<div>\n",
              "<style scoped>\n",
              "    .dataframe tbody tr th:only-of-type {\n",
              "        vertical-align: middle;\n",
              "    }\n",
              "\n",
              "    .dataframe tbody tr th {\n",
              "        vertical-align: top;\n",
              "    }\n",
              "\n",
              "    .dataframe thead th {\n",
              "        text-align: right;\n",
              "    }\n",
              "</style>\n",
              "<table border=\"1\" class=\"dataframe\">\n",
              "  <thead>\n",
              "    <tr style=\"text-align: right;\">\n",
              "      <th></th>\n",
              "      <th>backers_count</th>\n",
              "      <th>blurb</th>\n",
              "      <th>converted_pledged_amount</th>\n",
              "      <th>country</th>\n",
              "      <th>created_at</th>\n",
              "      <th>currency</th>\n",
              "      <th>current_currency</th>\n",
              "      <th>deadline</th>\n",
              "      <th>disable_communication</th>\n",
              "      <th>fx_rate</th>\n",
              "      <th>...</th>\n",
              "      <th>usd_type</th>\n",
              "      <th>lc_name</th>\n",
              "      <th>lc_localized_name</th>\n",
              "      <th>lc_state</th>\n",
              "      <th>lc_type</th>\n",
              "      <th>lc_expanded_country</th>\n",
              "      <th>ctgy_name</th>\n",
              "      <th>ctgy_slug</th>\n",
              "      <th>ctgy_parent_name</th>\n",
              "      <th>daysToDeadline</th>\n",
              "    </tr>\n",
              "  </thead>\n",
              "  <tbody>\n",
              "    <tr>\n",
              "      <th>0</th>\n",
              "      <td>7</td>\n",
              "      <td>Teen sensation Emma Bilyou is one of the most ...</td>\n",
              "      <td>1500</td>\n",
              "      <td>US</td>\n",
              "      <td>2013-06-04 15:11:43</td>\n",
              "      <td>USD</td>\n",
              "      <td>USD</td>\n",
              "      <td>2013-08-04 15:11:00</td>\n",
              "      <td>False</td>\n",
              "      <td>1.0</td>\n",
              "      <td>...</td>\n",
              "      <td>international</td>\n",
              "      <td>Paramus</td>\n",
              "      <td>Paramus</td>\n",
              "      <td>NJ</td>\n",
              "      <td>Town</td>\n",
              "      <td>United States</td>\n",
              "      <td>Pop</td>\n",
              "      <td>music/pop</td>\n",
              "      <td>Music</td>\n",
              "      <td>59</td>\n",
              "    </tr>\n",
              "    <tr>\n",
              "      <th>1</th>\n",
              "      <td>12</td>\n",
              "      <td>Thomas Nöla has recorded a new album. He would...</td>\n",
              "      <td>581</td>\n",
              "      <td>US</td>\n",
              "      <td>2013-03-17 15:10:18</td>\n",
              "      <td>USD</td>\n",
              "      <td>USD</td>\n",
              "      <td>2013-07-05 20:34:53</td>\n",
              "      <td>False</td>\n",
              "      <td>1.0</td>\n",
              "      <td>...</td>\n",
              "      <td>international</td>\n",
              "      <td>Boston</td>\n",
              "      <td>Boston</td>\n",
              "      <td>MA</td>\n",
              "      <td>Town</td>\n",
              "      <td>United States</td>\n",
              "      <td>Pop</td>\n",
              "      <td>music/pop</td>\n",
              "      <td>Music</td>\n",
              "      <td>30</td>\n",
              "    </tr>\n",
              "    <tr>\n",
              "      <th>2</th>\n",
              "      <td>134</td>\n",
              "      <td>The world's first ever full-length album of br...</td>\n",
              "      <td>15631</td>\n",
              "      <td>US</td>\n",
              "      <td>2013-05-22 18:23:10</td>\n",
              "      <td>USD</td>\n",
              "      <td>USD</td>\n",
              "      <td>2013-07-05 15:02:13</td>\n",
              "      <td>False</td>\n",
              "      <td>1.0</td>\n",
              "      <td>...</td>\n",
              "      <td>international</td>\n",
              "      <td>Los Angeles</td>\n",
              "      <td>Los Angeles</td>\n",
              "      <td>CA</td>\n",
              "      <td>Town</td>\n",
              "      <td>United States</td>\n",
              "      <td>Pop</td>\n",
              "      <td>music/pop</td>\n",
              "      <td>Music</td>\n",
              "      <td>30</td>\n",
              "    </tr>\n",
              "    <tr>\n",
              "      <th>3</th>\n",
              "      <td>76</td>\n",
              "      <td>Love, laugh, dance, and cry, to ten new synthp...</td>\n",
              "      <td>4177</td>\n",
              "      <td>US</td>\n",
              "      <td>2013-03-27 15:33:56</td>\n",
              "      <td>USD</td>\n",
              "      <td>USD</td>\n",
              "      <td>2013-07-01 12:00:00</td>\n",
              "      <td>False</td>\n",
              "      <td>1.0</td>\n",
              "      <td>...</td>\n",
              "      <td>international</td>\n",
              "      <td>Oklahoma City</td>\n",
              "      <td>Oklahoma City</td>\n",
              "      <td>OK</td>\n",
              "      <td>Town</td>\n",
              "      <td>United States</td>\n",
              "      <td>Pop</td>\n",
              "      <td>music/pop</td>\n",
              "      <td>Music</td>\n",
              "      <td>26</td>\n",
              "    </tr>\n",
              "    <tr>\n",
              "      <th>4</th>\n",
              "      <td>399</td>\n",
              "      <td>An all new recording from Christian music vete...</td>\n",
              "      <td>41100</td>\n",
              "      <td>US</td>\n",
              "      <td>2013-04-26 04:27:43</td>\n",
              "      <td>USD</td>\n",
              "      <td>USD</td>\n",
              "      <td>2013-07-01 06:00:37</td>\n",
              "      <td>False</td>\n",
              "      <td>1.0</td>\n",
              "      <td>...</td>\n",
              "      <td>international</td>\n",
              "      <td>Kalispell</td>\n",
              "      <td>Kalispell</td>\n",
              "      <td>MT</td>\n",
              "      <td>Town</td>\n",
              "      <td>United States</td>\n",
              "      <td>Pop</td>\n",
              "      <td>music/pop</td>\n",
              "      <td>Music</td>\n",
              "      <td>30</td>\n",
              "    </tr>\n",
              "  </tbody>\n",
              "</table>\n",
              "<p>5 rows × 32 columns</p>\n",
              "</div>"
            ],
            "text/plain": [
              "   backers_count                                              blurb  \\\n",
              "0              7  Teen sensation Emma Bilyou is one of the most ...   \n",
              "1             12  Thomas Nöla has recorded a new album. He would...   \n",
              "2            134  The world's first ever full-length album of br...   \n",
              "3             76  Love, laugh, dance, and cry, to ten new synthp...   \n",
              "4            399  An all new recording from Christian music vete...   \n",
              "\n",
              "   converted_pledged_amount country          created_at currency  \\\n",
              "0                      1500      US 2013-06-04 15:11:43      USD   \n",
              "1                       581      US 2013-03-17 15:10:18      USD   \n",
              "2                     15631      US 2013-05-22 18:23:10      USD   \n",
              "3                      4177      US 2013-03-27 15:33:56      USD   \n",
              "4                     41100      US 2013-04-26 04:27:43      USD   \n",
              "\n",
              "  current_currency            deadline  disable_communication  fx_rate  ...  \\\n",
              "0              USD 2013-08-04 15:11:00                  False      1.0  ...   \n",
              "1              USD 2013-07-05 20:34:53                  False      1.0  ...   \n",
              "2              USD 2013-07-05 15:02:13                  False      1.0  ...   \n",
              "3              USD 2013-07-01 12:00:00                  False      1.0  ...   \n",
              "4              USD 2013-07-01 06:00:37                  False      1.0  ...   \n",
              "\n",
              "        usd_type        lc_name lc_localized_name lc_state  lc_type  \\\n",
              "0  international        Paramus           Paramus       NJ     Town   \n",
              "1  international         Boston            Boston       MA     Town   \n",
              "2  international    Los Angeles       Los Angeles       CA     Town   \n",
              "3  international  Oklahoma City     Oklahoma City       OK     Town   \n",
              "4  international      Kalispell         Kalispell       MT     Town   \n",
              "\n",
              "  lc_expanded_country  ctgy_name  ctgy_slug ctgy_parent_name daysToDeadline  \n",
              "0       United States        Pop  music/pop            Music             59  \n",
              "1       United States        Pop  music/pop            Music             30  \n",
              "2       United States        Pop  music/pop            Music             30  \n",
              "3       United States        Pop  music/pop            Music             26  \n",
              "4       United States        Pop  music/pop            Music             30  \n",
              "\n",
              "[5 rows x 32 columns]"
            ]
          },
          "execution_count": 26,
          "metadata": {},
          "output_type": "execute_result"
        }
      ],
      "source": [
        "d1.head()"
      ]
    },
    {
      "cell_type": "code",
      "execution_count": null,
      "metadata": {
        "id": "wco0o5xoveyQ"
      },
      "outputs": [],
      "source": [
        "cols_to_use=['spotlight','ctgy_name','backers_count','pledged','goal','state', 'state_changed_at', 'created_at','launched_at', 'deadline','country', 'is_starrable','staff_pick','lc_state', 'lc_type',\n",
        "       'lc_expanded_country','usd_exchange_rate', 'usd_pledged',\n",
        "       'usd_type',]"
      ]
    },
    {
      "cell_type": "code",
      "execution_count": null,
      "metadata": {
        "id": "XaTt1DaCveyQ"
      },
      "outputs": [],
      "source": [
        "cols_to_use=['spotlight','ctgy_name','backers_count','pledged','goal','state', 'state_changed_at', 'created_at','launched_at', 'deadline','country', 'is_starrable','staff_pick']"
      ]
    },
    {
      "cell_type": "code",
      "execution_count": null,
      "metadata": {
        "id": "dYoHI7UQveyR",
        "outputId": "d54697ef-524e-4e9c-d046-394c8ccfa84b"
      },
      "outputs": [
        {
          "data": {
            "text/html": [
              "<div>\n",
              "<style scoped>\n",
              "    .dataframe tbody tr th:only-of-type {\n",
              "        vertical-align: middle;\n",
              "    }\n",
              "\n",
              "    .dataframe tbody tr th {\n",
              "        vertical-align: top;\n",
              "    }\n",
              "\n",
              "    .dataframe thead th {\n",
              "        text-align: right;\n",
              "    }\n",
              "</style>\n",
              "<table border=\"1\" class=\"dataframe\">\n",
              "  <thead>\n",
              "    <tr style=\"text-align: right;\">\n",
              "      <th></th>\n",
              "      <th>spotlight</th>\n",
              "      <th>ctgy_name</th>\n",
              "      <th>backers_count</th>\n",
              "      <th>pledged</th>\n",
              "      <th>goal</th>\n",
              "      <th>state</th>\n",
              "      <th>state_changed_at</th>\n",
              "      <th>created_at</th>\n",
              "      <th>launched_at</th>\n",
              "      <th>deadline</th>\n",
              "      <th>country</th>\n",
              "      <th>is_starrable</th>\n",
              "      <th>staff_pick</th>\n",
              "    </tr>\n",
              "  </thead>\n",
              "  <tbody>\n",
              "    <tr>\n",
              "      <th>0</th>\n",
              "      <td>True</td>\n",
              "      <td>Pop</td>\n",
              "      <td>7</td>\n",
              "      <td>1500.00</td>\n",
              "      <td>1500.0</td>\n",
              "      <td>successful</td>\n",
              "      <td>2013-08-04 15:11:00</td>\n",
              "      <td>2013-06-04 15:11:43</td>\n",
              "      <td>2013-06-05 22:53:06</td>\n",
              "      <td>2013-08-04 15:11:00</td>\n",
              "      <td>US</td>\n",
              "      <td>False</td>\n",
              "      <td>False</td>\n",
              "    </tr>\n",
              "    <tr>\n",
              "      <th>1</th>\n",
              "      <td>True</td>\n",
              "      <td>Pop</td>\n",
              "      <td>12</td>\n",
              "      <td>581.66</td>\n",
              "      <td>500.0</td>\n",
              "      <td>successful</td>\n",
              "      <td>2013-07-05 20:34:53</td>\n",
              "      <td>2013-03-17 15:10:18</td>\n",
              "      <td>2013-06-05 20:34:53</td>\n",
              "      <td>2013-07-05 20:34:53</td>\n",
              "      <td>US</td>\n",
              "      <td>False</td>\n",
              "      <td>False</td>\n",
              "    </tr>\n",
              "    <tr>\n",
              "      <th>2</th>\n",
              "      <td>True</td>\n",
              "      <td>Pop</td>\n",
              "      <td>134</td>\n",
              "      <td>15631.00</td>\n",
              "      <td>15000.0</td>\n",
              "      <td>successful</td>\n",
              "      <td>2013-07-05 15:02:15</td>\n",
              "      <td>2013-05-22 18:23:10</td>\n",
              "      <td>2013-06-05 15:02:13</td>\n",
              "      <td>2013-07-05 15:02:13</td>\n",
              "      <td>US</td>\n",
              "      <td>False</td>\n",
              "      <td>False</td>\n",
              "    </tr>\n",
              "    <tr>\n",
              "      <th>3</th>\n",
              "      <td>True</td>\n",
              "      <td>Pop</td>\n",
              "      <td>76</td>\n",
              "      <td>4177.00</td>\n",
              "      <td>3500.0</td>\n",
              "      <td>successful</td>\n",
              "      <td>2013-07-01 12:00:35</td>\n",
              "      <td>2013-03-27 15:33:56</td>\n",
              "      <td>2013-06-05 02:33:20</td>\n",
              "      <td>2013-07-01 12:00:00</td>\n",
              "      <td>US</td>\n",
              "      <td>False</td>\n",
              "      <td>False</td>\n",
              "    </tr>\n",
              "    <tr>\n",
              "      <th>4</th>\n",
              "      <td>True</td>\n",
              "      <td>Pop</td>\n",
              "      <td>399</td>\n",
              "      <td>41100.25</td>\n",
              "      <td>40000.0</td>\n",
              "      <td>successful</td>\n",
              "      <td>2013-07-01 06:00:37</td>\n",
              "      <td>2013-04-26 04:27:43</td>\n",
              "      <td>2013-06-01 06:00:37</td>\n",
              "      <td>2013-07-01 06:00:37</td>\n",
              "      <td>US</td>\n",
              "      <td>False</td>\n",
              "      <td>False</td>\n",
              "    </tr>\n",
              "  </tbody>\n",
              "</table>\n",
              "</div>"
            ],
            "text/plain": [
              "   spotlight ctgy_name  backers_count   pledged     goal       state  \\\n",
              "0       True       Pop              7   1500.00   1500.0  successful   \n",
              "1       True       Pop             12    581.66    500.0  successful   \n",
              "2       True       Pop            134  15631.00  15000.0  successful   \n",
              "3       True       Pop             76   4177.00   3500.0  successful   \n",
              "4       True       Pop            399  41100.25  40000.0  successful   \n",
              "\n",
              "     state_changed_at          created_at         launched_at  \\\n",
              "0 2013-08-04 15:11:00 2013-06-04 15:11:43 2013-06-05 22:53:06   \n",
              "1 2013-07-05 20:34:53 2013-03-17 15:10:18 2013-06-05 20:34:53   \n",
              "2 2013-07-05 15:02:15 2013-05-22 18:23:10 2013-06-05 15:02:13   \n",
              "3 2013-07-01 12:00:35 2013-03-27 15:33:56 2013-06-05 02:33:20   \n",
              "4 2013-07-01 06:00:37 2013-04-26 04:27:43 2013-06-01 06:00:37   \n",
              "\n",
              "             deadline country  is_starrable  staff_pick  \n",
              "0 2013-08-04 15:11:00      US         False       False  \n",
              "1 2013-07-05 20:34:53      US         False       False  \n",
              "2 2013-07-05 15:02:13      US         False       False  \n",
              "3 2013-07-01 12:00:00      US         False       False  \n",
              "4 2013-07-01 06:00:37      US         False       False  "
            ]
          },
          "execution_count": 56,
          "metadata": {},
          "output_type": "execute_result"
        }
      ],
      "source": [
        "d1[cols_to_use].head()"
      ]
    },
    {
      "cell_type": "code",
      "execution_count": null,
      "metadata": {
        "id": "rfkZOHwGveyR",
        "outputId": "b9b82c00-d125-4272-bb07-ecc646995d63"
      },
      "outputs": [
        {
          "data": {
            "text/plain": [
              "Index(['backers_count', 'blurb', 'converted_pledged_amount', 'country',\n",
              "       'created_at', 'currency', 'current_currency', 'deadline',\n",
              "       'disable_communication', 'fx_rate', 'goal', 'is_starrable',\n",
              "       'launched_at', 'name', 'pledged', 'slug', 'spotlight', 'staff_pick',\n",
              "       'state', 'state_changed_at', 'usd_exchange_rate', 'usd_pledged',\n",
              "       'usd_type', 'lc_name', 'lc_localized_name', 'lc_state', 'lc_type',\n",
              "       'lc_expanded_country', 'ctgy_name', 'ctgy_slug', 'ctgy_parent_name',\n",
              "       'daysToDeadline'],\n",
              "      dtype='object')"
            ]
          },
          "execution_count": 40,
          "metadata": {},
          "output_type": "execute_result"
        }
      ],
      "source": [
        "d1.columns"
      ]
    },
    {
      "cell_type": "code",
      "execution_count": null,
      "metadata": {
        "id": "NkqlzatTveyR",
        "outputId": "b9e6ab92-8128-4715-a876-bfbc969d1e31"
      },
      "outputs": [
        {
          "data": {
            "text/html": [
              "<div>\n",
              "<style scoped>\n",
              "    .dataframe tbody tr th:only-of-type {\n",
              "        vertical-align: middle;\n",
              "    }\n",
              "\n",
              "    .dataframe tbody tr th {\n",
              "        vertical-align: top;\n",
              "    }\n",
              "\n",
              "    .dataframe thead th {\n",
              "        text-align: right;\n",
              "    }\n",
              "</style>\n",
              "<table border=\"1\" class=\"dataframe\">\n",
              "  <thead>\n",
              "    <tr style=\"text-align: right;\">\n",
              "      <th></th>\n",
              "      <th>converted_pledged_amount</th>\n",
              "      <th>usd_pledged</th>\n",
              "      <th>goal</th>\n",
              "      <th>ctgy_name</th>\n",
              "      <th>state</th>\n",
              "    </tr>\n",
              "  </thead>\n",
              "  <tbody>\n",
              "    <tr>\n",
              "      <th>0</th>\n",
              "      <td>1500</td>\n",
              "      <td>1500.000000</td>\n",
              "      <td>1500.0</td>\n",
              "      <td>Pop</td>\n",
              "      <td>successful</td>\n",
              "    </tr>\n",
              "    <tr>\n",
              "      <th>1</th>\n",
              "      <td>581</td>\n",
              "      <td>581.660000</td>\n",
              "      <td>500.0</td>\n",
              "      <td>Pop</td>\n",
              "      <td>successful</td>\n",
              "    </tr>\n",
              "    <tr>\n",
              "      <th>2</th>\n",
              "      <td>15631</td>\n",
              "      <td>15631.000000</td>\n",
              "      <td>15000.0</td>\n",
              "      <td>Pop</td>\n",
              "      <td>successful</td>\n",
              "    </tr>\n",
              "    <tr>\n",
              "      <th>3</th>\n",
              "      <td>4177</td>\n",
              "      <td>4177.000000</td>\n",
              "      <td>3500.0</td>\n",
              "      <td>Pop</td>\n",
              "      <td>successful</td>\n",
              "    </tr>\n",
              "    <tr>\n",
              "      <th>4</th>\n",
              "      <td>41100</td>\n",
              "      <td>41100.250000</td>\n",
              "      <td>40000.0</td>\n",
              "      <td>Pop</td>\n",
              "      <td>successful</td>\n",
              "    </tr>\n",
              "    <tr>\n",
              "      <th>...</th>\n",
              "      <td>...</td>\n",
              "      <td>...</td>\n",
              "      <td>...</td>\n",
              "      <td>...</td>\n",
              "      <td>...</td>\n",
              "    </tr>\n",
              "    <tr>\n",
              "      <th>3628</th>\n",
              "      <td>10591</td>\n",
              "      <td>10511.913093</td>\n",
              "      <td>15000.0</td>\n",
              "      <td>Drinks</td>\n",
              "      <td>successful</td>\n",
              "    </tr>\n",
              "    <tr>\n",
              "      <th>3629</th>\n",
              "      <td>6631</td>\n",
              "      <td>6631.000000</td>\n",
              "      <td>5000.0</td>\n",
              "      <td>Pop</td>\n",
              "      <td>successful</td>\n",
              "    </tr>\n",
              "    <tr>\n",
              "      <th>3630</th>\n",
              "      <td>4050</td>\n",
              "      <td>4050.220000</td>\n",
              "      <td>4000.0</td>\n",
              "      <td>Pop</td>\n",
              "      <td>successful</td>\n",
              "    </tr>\n",
              "    <tr>\n",
              "      <th>3631</th>\n",
              "      <td>1210</td>\n",
              "      <td>1210.000000</td>\n",
              "      <td>600.0</td>\n",
              "      <td>Pop</td>\n",
              "      <td>successful</td>\n",
              "    </tr>\n",
              "    <tr>\n",
              "      <th>3632</th>\n",
              "      <td>5525</td>\n",
              "      <td>5525.000000</td>\n",
              "      <td>5000.0</td>\n",
              "      <td>Pop</td>\n",
              "      <td>successful</td>\n",
              "    </tr>\n",
              "  </tbody>\n",
              "</table>\n",
              "<p>3633 rows × 5 columns</p>\n",
              "</div>"
            ],
            "text/plain": [
              "      converted_pledged_amount   usd_pledged     goal ctgy_name       state\n",
              "0                         1500   1500.000000   1500.0       Pop  successful\n",
              "1                          581    581.660000    500.0       Pop  successful\n",
              "2                        15631  15631.000000  15000.0       Pop  successful\n",
              "3                         4177   4177.000000   3500.0       Pop  successful\n",
              "4                        41100  41100.250000  40000.0       Pop  successful\n",
              "...                        ...           ...      ...       ...         ...\n",
              "3628                     10591  10511.913093  15000.0    Drinks  successful\n",
              "3629                      6631   6631.000000   5000.0       Pop  successful\n",
              "3630                      4050   4050.220000   4000.0       Pop  successful\n",
              "3631                      1210   1210.000000    600.0       Pop  successful\n",
              "3632                      5525   5525.000000   5000.0       Pop  successful\n",
              "\n",
              "[3633 rows x 5 columns]"
            ]
          },
          "execution_count": 43,
          "metadata": {},
          "output_type": "execute_result"
        }
      ],
      "source": [
        "d1[['converted_pledged_amount','usd_pledged','goal','ctgy_name','state']]"
      ]
    },
    {
      "cell_type": "code",
      "execution_count": null,
      "metadata": {
        "id": "pEj1To1kveyS",
        "outputId": "ddbd272f-fa6c-4287-edd8-e020df717d13"
      },
      "outputs": [
        {
          "data": {
            "text/html": [
              "<div>\n",
              "<style scoped>\n",
              "    .dataframe tbody tr th:only-of-type {\n",
              "        vertical-align: middle;\n",
              "    }\n",
              "\n",
              "    .dataframe tbody tr th {\n",
              "        vertical-align: top;\n",
              "    }\n",
              "\n",
              "    .dataframe thead th {\n",
              "        text-align: right;\n",
              "    }\n",
              "</style>\n",
              "<table border=\"1\" class=\"dataframe\">\n",
              "  <thead>\n",
              "    <tr style=\"text-align: right;\">\n",
              "      <th></th>\n",
              "      <th>converted_pledged_amount</th>\n",
              "      <th>usd_pledged</th>\n",
              "      <th>goal</th>\n",
              "      <th>ctgy_name</th>\n",
              "      <th>state</th>\n",
              "    </tr>\n",
              "  </thead>\n",
              "  <tbody>\n",
              "    <tr>\n",
              "      <th>48</th>\n",
              "      <td>1848</td>\n",
              "      <td>1843.046992</td>\n",
              "      <td>5000.0</td>\n",
              "      <td>Plays</td>\n",
              "      <td>failed</td>\n",
              "    </tr>\n",
              "    <tr>\n",
              "      <th>734</th>\n",
              "      <td>22235</td>\n",
              "      <td>22235.010000</td>\n",
              "      <td>35000.0</td>\n",
              "      <td>Journalism</td>\n",
              "      <td>failed</td>\n",
              "    </tr>\n",
              "    <tr>\n",
              "      <th>797</th>\n",
              "      <td>50</td>\n",
              "      <td>51.066804</td>\n",
              "      <td>5000.0</td>\n",
              "      <td>Audio</td>\n",
              "      <td>failed</td>\n",
              "    </tr>\n",
              "    <tr>\n",
              "      <th>798</th>\n",
              "      <td>1317</td>\n",
              "      <td>1325.440084</td>\n",
              "      <td>3500.0</td>\n",
              "      <td>Journalism</td>\n",
              "      <td>failed</td>\n",
              "    </tr>\n",
              "    <tr>\n",
              "      <th>799</th>\n",
              "      <td>81</td>\n",
              "      <td>81.791145</td>\n",
              "      <td>1000.0</td>\n",
              "      <td>Journalism</td>\n",
              "      <td>failed</td>\n",
              "    </tr>\n",
              "  </tbody>\n",
              "</table>\n",
              "</div>"
            ],
            "text/plain": [
              "     converted_pledged_amount   usd_pledged     goal   ctgy_name   state\n",
              "48                       1848   1843.046992   5000.0       Plays  failed\n",
              "734                     22235  22235.010000  35000.0  Journalism  failed\n",
              "797                        50     51.066804   5000.0       Audio  failed\n",
              "798                      1317   1325.440084   3500.0  Journalism  failed\n",
              "799                        81     81.791145   1000.0  Journalism  failed"
            ]
          },
          "execution_count": 45,
          "metadata": {},
          "output_type": "execute_result"
        }
      ],
      "source": [
        "d1.loc[d1.state=='failed',['converted_pledged_amount','usd_pledged','goal','ctgy_name','state']].head()"
      ]
    },
    {
      "cell_type": "code",
      "execution_count": null,
      "metadata": {
        "id": "jlrhQKC_veyS"
      },
      "outputs": [],
      "source": [
        "def fxn_hist_box_plot(df,col):\n",
        "    fig,ax=plt.subplots(1,2,figsize=(12,5))\n",
        "    #sns.violinplot(df[col],ax=ax[0],color='teal',cut=2)\n",
        "    sns.boxplot(df[col],ax=ax[0],color='teal')\n",
        "    ax[0].set_title('Violin plot')\n",
        "    \n",
        "    ax[0].set_xlabel(col)\n",
        "\n",
        "\n",
        "    sns.distplot(df[col],ax=ax[1],color='tomato')\n",
        "    ax[1].axvline(df[col].mean(),  label='Mean',color='teal')\n",
        "    ax[1].axvline(df[col].median(),  label='Median',linestyle='dotted',color='black')\n",
        "    ax[1].set_xlabel(col)\n",
        "\n",
        "    ax[1].set_title('Histogram')\n",
        "    tit1='Distribution of '+col\n",
        "    plt.suptitle(tit1)\n",
        "    plt.tight_layout()\n",
        "    plt.legend()\n",
        "    plt.show()"
      ]
    },
    {
      "cell_type": "code",
      "execution_count": null,
      "metadata": {
        "id": "u0UpLE2VveyT",
        "outputId": "6391e40b-3757-43fe-f527-ea88055b06a8"
      },
      "outputs": [
        {
          "name": "stderr",
          "output_type": "stream",
          "text": [
            "D:\\Anaconda\\lib\\site-packages\\seaborn\\_decorators.py:36: FutureWarning: Pass the following variable as a keyword arg: x. From version 0.12, the only valid positional argument will be `data`, and passing other arguments without an explicit keyword will result in an error or misinterpretation.\n",
            "  warnings.warn(\n",
            "D:\\Anaconda\\lib\\site-packages\\seaborn\\distributions.py:2557: FutureWarning: `distplot` is a deprecated function and will be removed in a future version. Please adapt your code to use either `displot` (a figure-level function with similar flexibility) or `histplot` (an axes-level function for histograms).\n",
            "  warnings.warn(msg, FutureWarning)\n"
          ]
        },
        {
          "data": {
            "image/png": "[encoded data removed]",
            "text/plain": [
              "<Figure size 864x360 with 2 Axes>"
            ]
          },
          "metadata": {
            "needs_background": "light"
          },
          "output_type": "display_data"
        }
      ],
      "source": [
        "fxn_hist_box_plot(d1,'daysToDeadline')"
      ]
    },
    {
      "cell_type": "code",
      "execution_count": null,
      "metadata": {
        "id": "IXzHZQrMveyT"
      },
      "outputs": [],
      "source": [
        ""
      ]
    }
  ],
  "metadata": {
    "kernelspec": {
      "display_name": "Python 3",
      "language": "python",
      "name": "python3"
    },
    "language_info": {
      "codemirror_mode": {
        "name": "ipython",
        "version": 3
      },
      "file_extension": ".py",
      "mimetype": "text/x-python",
      "name": "python",
      "nbconvert_exporter": "python",
      "pygments_lexer": "ipython3",
      "version": "3.8.3"
    },
    "colab": {
      "name": "EDA3.ipynb",
      "provenance": [],
      "include_colab_link": true
    }
  },
  "nbformat": 4,
  "nbformat_minor": 0
}