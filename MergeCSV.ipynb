{
  "cells": [
    {
      "cell_type": "markdown",
      "metadata": {
        "id": "view-in-github",
        "colab_type": "text"
      },
      "source": [
        "<a href=\"https://colab.research.google.com/github/risavh/KickstarterAnalysis/blob/main/MergeCSV.ipynb\" target=\"_parent\"><img src=\"https://colab.research.google.com/assets/colab-badge.svg\" alt=\"Open In Colab\"/></a>"
      ]
    },
    {
      "cell_type": "code",
      "execution_count": null,
      "metadata": {
        "id": "s_pVEjp4wE50"
      },
      "outputs": [],
      "source": [
        "# import necessary libraries\n",
        "import pandas as pd\n",
        "import os\n",
        "import glob\n",
        "from tqdm import tqdm\n",
        "\n",
        "\n"
      ]
    },
    {
      "cell_type": "code",
      "execution_count": null,
      "metadata": {
        "id": "NODAt2aNwE54",
        "outputId": "6a660da1-500c-4941-9c94-bba1a953b095"
      },
      "outputs": [
        {
          "data": {
            "text/plain": [
              "['D:\\\\works\\\\gtech\\\\MGT6203\\\\Project\\\\ck\\\\Kickstarter_2021-12-17 to 12-2019-20220316T011202Z-004\\\\Kickstarter_2021-12-17 to 12-2019\\\\Kickstarter001Mar-2020.csv',\n",
              " 'D:\\\\works\\\\gtech\\\\MGT6203\\\\Project\\\\ck\\\\Kickstarter_2021-12-17 to 12-2019-20220316T011202Z-004\\\\Kickstarter_2021-12-17 to 12-2019\\\\Kickstarter005Mar-2020.csv',\n",
              " 'D:\\\\works\\\\gtech\\\\MGT6203\\\\Project\\\\ck\\\\Kickstarter_2021-12-17 to 12-2019-20220316T011202Z-004\\\\Kickstarter_2021-12-17 to 12-2019\\\\Kickstarter008Feb-2020.csv']"
            ]
          },
          "execution_count": 2,
          "metadata": {},
          "output_type": "execute_result"
        }
      ],
      "source": [
        "# use glob to get all the csv files\n",
        "# in the folder\n",
        "path = os.getcwd()\n",
        "csv_files = glob.glob(os.path.join(path, \"*.csv\"))\n",
        "\n",
        "csv_files[:3]\n"
      ]
    },
    {
      "cell_type": "code",
      "execution_count": null,
      "metadata": {
        "id": "jUzlQ1-XwE55",
        "outputId": "ae61cd23-7c8e-4b1e-f17e-5e99d4388350"
      },
      "outputs": [
        {
          "name": "stderr",
          "output_type": "stream",
          "text": [
            "100%|██████████████████████████████████████████████████████████████████████████████████| 49/49 [00:17<00:00,  2.80it/s]\n"
          ]
        },
        {
          "name": "stdout",
          "output_type": "stream",
          "text": [
            "Wall time: 17.7 s\n"
          ]
        },
        {
          "data": {
            "text/plain": [
              "(181946, 38)"
            ]
          },
          "execution_count": 3,
          "metadata": {},
          "output_type": "execute_result"
        }
      ],
      "source": [
        "%%time\n",
        "foo=pd.DataFrame()\n",
        "for f in tqdm(csv_files):\n",
        "\n",
        "# read the csv file\n",
        "    df = pd.read_csv(f)\n",
        "    \n",
        "    foo=pd.concat([foo,df])\n",
        "    #print(foo.shape)\n",
        "    \n",
        "foo=foo.reset_index(drop=True)\n",
        "\n",
        "foo.shape\n"
      ]
    },
    {
      "cell_type": "code",
      "execution_count": null,
      "metadata": {
        "id": "-FIVMwXUwE56",
        "outputId": "86c967fd-7b62-435a-9a03-103772f04161"
      },
      "outputs": [
        {
          "data": {
            "text/plain": [
              "(181946, 38)"
            ]
          },
          "execution_count": 4,
          "metadata": {},
          "output_type": "execute_result"
        }
      ],
      "source": [
        "foo1=foo.drop_duplicates()\n",
        "foo1.shape"
      ]
    },
    {
      "cell_type": "code",
      "execution_count": null,
      "metadata": {
        "id": "-yYghisbwE57",
        "outputId": "f34dfd8f-e890-4f8c-9d2d-0f63164ac8aa"
      },
      "outputs": [
        {
          "data": {
            "text/plain": [
              "successful    104274\n",
              "failed         64370\n",
              "canceled        7578\n",
              "live            5302\n",
              "suspended        422\n",
              "Name: state, dtype: int64"
            ]
          },
          "execution_count": 5,
          "metadata": {},
          "output_type": "execute_result"
        }
      ],
      "source": [
        "foo1.state.value_counts()"
      ]
    },
    {
      "cell_type": "code",
      "execution_count": null,
      "metadata": {
        "id": "I1LtVKrzwE57",
        "outputId": "ef113750-accf-4139-b93c-4b3de1e7430a"
      },
      "outputs": [
        {
          "data": {
            "text/plain": [
              "168644"
            ]
          },
          "execution_count": 6,
          "metadata": {},
          "output_type": "execute_result"
        }
      ],
      "source": [
        "foo1.loc[foo1.state.isin(['successful','failed']),:].shape[0]"
      ]
    },
    {
      "cell_type": "code",
      "execution_count": null,
      "metadata": {
        "id": "XCew5m_UwE58",
        "outputId": "78e1f667-cecd-48c2-ef49-376df6fb65ee"
      },
      "outputs": [
        {
          "data": {
            "text/plain": [
              "(168644, 38)"
            ]
          },
          "execution_count": 7,
          "metadata": {},
          "output_type": "execute_result"
        }
      ],
      "source": [
        "foo2=foo1.loc[foo1.state.isin(['successful','failed']),:].reset_index(drop=True)\n",
        "foo2.shape"
      ]
    },
    {
      "cell_type": "code",
      "execution_count": null,
      "metadata": {
        "id": "vxQp_nYFwE59"
      },
      "outputs": [],
      "source": [
        "foo2.to_csv('CK_4.csv',index=False,encoding='utf-8')"
      ]
    },
    {
      "cell_type": "code",
      "execution_count": null,
      "metadata": {
        "id": "OmNTX917wE59"
      },
      "outputs": [],
      "source": [
        ""
      ]
    }
  ],
  "metadata": {
    "kernelspec": {
      "display_name": "Python 3",
      "language": "python",
      "name": "python3"
    },
    "language_info": {
      "codemirror_mode": {
        "name": "ipython",
        "version": 3
      },
      "file_extension": ".py",
      "mimetype": "text/x-python",
      "name": "python",
      "nbconvert_exporter": "python",
      "pygments_lexer": "ipython3",
      "version": "3.8.3"
    },
    "colab": {
      "name": "MergeCSV.ipynb",
      "provenance": [],
      "include_colab_link": true
    }
  },
  "nbformat": 4,
  "nbformat_minor": 0
}