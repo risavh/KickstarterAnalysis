{
 "cells": [
  {
   "cell_type": "code",
   "execution_count": 21,
   "metadata": {},
   "outputs": [],
   "source": [
    "#library(tidyverse)\n",
    "library(\"dplyr\") \n",
    "library(caTools) # Prediction: Splitting Data\n",
    "library(car)\n",
    "library(ROCR)\n",
    "library(e1071) # Prediction: SVM, Naive Bayes, Parameter Tuning\n",
    "library(rpart) # Prediction: Decision Tree\n",
    "library(rpart.plot) # Prediction: Decision Tree\n",
    "library(caret) # Prediction: k-Fold Cross Validation\n",
    "library(xgboost) # for xgboost\n",
    "library(reshape)\n",
    "library(ggplot2)\n"
   ]
  },
  {
   "cell_type": "markdown",
   "metadata": {},
   "source": [
    "In this notebook we will go over following steps:-\n",
    "\n",
    "- Reduce the amount of redundant information\n",
    "- Convert categorical information to a numeric format\n",
    "- Split dataset into testing and training subsets\n",
    "- Convert the cleaned dataframe to a Dmatrix\n",
    "- Model Training & Validation"
   ]
  },
  {
   "cell_type": "code",
   "execution_count": 5,
   "metadata": {},
   "outputs": [
    {
     "name": "stderr",
     "output_type": "stream",
     "text": [
      "Rows: 75178---Columns: 23\n"
     ]
    }
   ],
   "source": [
    "df <- read.csv('Kickstarter_Clean_Final.csv')\n",
    "message('Rows: ',dim(df)[1],'---Columns: ',dim(df)[2])"
   ]
  },
  {
   "cell_type": "markdown",
   "metadata": {},
   "source": [
    "## Drop Columns\n",
    "\n",
    "Reduce the amount of redundant information"
   ]
  },
  {
   "cell_type": "code",
   "execution_count": 7,
   "metadata": {},
   "outputs": [
    {
     "name": "stderr",
     "output_type": "stream",
     "text": [
      "Rows: 75178---Columns: 14\n"
     ]
    }
   ],
   "source": [
    "cols_to_drop<-c('converted_pledged_amount_USD',\n",
    "'country',\n",
    "'currency',\n",
    "'pledged',\n",
    "'backers_count',\n",
    "'usd_exchange_rate',\n",
    "'usd_type',\n",
    "'goal_converted',\n",
    "'ctgy_name')\n",
    "\n",
    "df1<-df[ , !(names(df) %in% cols_to_drop)]\n",
    "message('Rows: ',dim(df1)[1],'---Columns: ',dim(df1)[2])"
   ]
  },
  {
   "cell_type": "markdown",
   "metadata": {},
   "source": [
    "## Fixing Target Variable"
   ]
  },
  {
   "cell_type": "code",
   "execution_count": 8,
   "metadata": {},
   "outputs": [],
   "source": [
    "df1 <- df1 %>%\n",
    "  mutate(state = case_when(state==\"failed\" ~ 1, \n",
    "                              state==\"successful\" ~ 0))"
   ]
  },
  {
   "cell_type": "markdown",
   "metadata": {},
   "source": [
    "## Converting Ctgy features to numerical\n",
    "\n",
    "Some of our categorical features may include helpful information, such as staff_pick. Let's try to perserve some of these variables for our XGBoost model by converting them to the class numeric.\n",
    "\n",
    "The function model.matrix() performs one-hot encoding of categorical data and creates a sparse matrix. A value of 1 indicates that the variable is present for an observation. The first argument is the variable; the second is the dataframe. The reason we include a minus 1 after the variable is to prevent the first column from becoming the Intercept."
   ]
  },
  {
   "cell_type": "code",
   "execution_count": 9,
   "metadata": {},
   "outputs": [
    {
     "data": {
      "text/html": [
       "<table>\n",
       "<thead><tr><th scope=col>staff_pickFalse</th><th scope=col>staff_pickTrue</th></tr></thead>\n",
       "<tbody>\n",
       "\t<tr><td>1</td><td>0</td></tr>\n",
       "\t<tr><td>0</td><td>1</td></tr>\n",
       "\t<tr><td>1</td><td>0</td></tr>\n",
       "\t<tr><td>0</td><td>1</td></tr>\n",
       "\t<tr><td>1</td><td>0</td></tr>\n",
       "\t<tr><td>0</td><td>1</td></tr>\n",
       "</tbody>\n",
       "</table>\n"
      ],
      "text/latex": [
       "\\begin{tabular}{r|ll}\n",
       " staff\\_pickFalse & staff\\_pickTrue\\\\\n",
       "\\hline\n",
       "\t 1 & 0\\\\\n",
       "\t 0 & 1\\\\\n",
       "\t 1 & 0\\\\\n",
       "\t 0 & 1\\\\\n",
       "\t 1 & 0\\\\\n",
       "\t 0 & 1\\\\\n",
       "\\end{tabular}\n"
      ],
      "text/markdown": [
       "\n",
       "| staff_pickFalse | staff_pickTrue |\n",
       "|---|---|\n",
       "| 1 | 0 |\n",
       "| 0 | 1 |\n",
       "| 1 | 0 |\n",
       "| 0 | 1 |\n",
       "| 1 | 0 |\n",
       "| 0 | 1 |\n",
       "\n"
      ],
      "text/plain": [
       "  staff_pickFalse staff_pickTrue\n",
       "1 1               0             \n",
       "2 0               1             \n",
       "3 1               0             \n",
       "4 0               1             \n",
       "5 1               0             \n",
       "6 0               1             "
      ]
     },
     "metadata": {},
     "output_type": "display_data"
    },
    {
     "data": {
      "text/html": [
       "<table>\n",
       "<thead><tr><th scope=col>launch_dayFriday</th><th scope=col>launch_dayMonday</th><th scope=col>launch_daySaturday</th><th scope=col>launch_daySunday</th><th scope=col>launch_dayThursday</th><th scope=col>launch_dayTuesday</th><th scope=col>launch_dayWednesday</th></tr></thead>\n",
       "<tbody>\n",
       "\t<tr><td>0</td><td>0</td><td>1</td><td>0</td><td>0</td><td>0</td><td>0</td></tr>\n",
       "\t<tr><td>0</td><td>0</td><td>0</td><td>0</td><td>1</td><td>0</td><td>0</td></tr>\n",
       "\t<tr><td>0</td><td>0</td><td>0</td><td>0</td><td>1</td><td>0</td><td>0</td></tr>\n",
       "\t<tr><td>0</td><td>0</td><td>0</td><td>0</td><td>1</td><td>0</td><td>0</td></tr>\n",
       "\t<tr><td>0</td><td>0</td><td>0</td><td>0</td><td>0</td><td>0</td><td>1</td></tr>\n",
       "\t<tr><td>0</td><td>0</td><td>0</td><td>0</td><td>0</td><td>0</td><td>1</td></tr>\n",
       "</tbody>\n",
       "</table>\n"
      ],
      "text/latex": [
       "\\begin{tabular}{r|lllllll}\n",
       " launch\\_dayFriday & launch\\_dayMonday & launch\\_daySaturday & launch\\_daySunday & launch\\_dayThursday & launch\\_dayTuesday & launch\\_dayWednesday\\\\\n",
       "\\hline\n",
       "\t 0 & 0 & 1 & 0 & 0 & 0 & 0\\\\\n",
       "\t 0 & 0 & 0 & 0 & 1 & 0 & 0\\\\\n",
       "\t 0 & 0 & 0 & 0 & 1 & 0 & 0\\\\\n",
       "\t 0 & 0 & 0 & 0 & 1 & 0 & 0\\\\\n",
       "\t 0 & 0 & 0 & 0 & 0 & 0 & 1\\\\\n",
       "\t 0 & 0 & 0 & 0 & 0 & 0 & 1\\\\\n",
       "\\end{tabular}\n"
      ],
      "text/markdown": [
       "\n",
       "| launch_dayFriday | launch_dayMonday | launch_daySaturday | launch_daySunday | launch_dayThursday | launch_dayTuesday | launch_dayWednesday |\n",
       "|---|---|---|---|---|---|---|\n",
       "| 0 | 0 | 1 | 0 | 0 | 0 | 0 |\n",
       "| 0 | 0 | 0 | 0 | 1 | 0 | 0 |\n",
       "| 0 | 0 | 0 | 0 | 1 | 0 | 0 |\n",
       "| 0 | 0 | 0 | 0 | 1 | 0 | 0 |\n",
       "| 0 | 0 | 0 | 0 | 0 | 0 | 1 |\n",
       "| 0 | 0 | 0 | 0 | 0 | 0 | 1 |\n",
       "\n"
      ],
      "text/plain": [
       "  launch_dayFriday launch_dayMonday launch_daySaturday launch_daySunday\n",
       "1 0                0                1                  0               \n",
       "2 0                0                0                  0               \n",
       "3 0                0                0                  0               \n",
       "4 0                0                0                  0               \n",
       "5 0                0                0                  0               \n",
       "6 0                0                0                  0               \n",
       "  launch_dayThursday launch_dayTuesday launch_dayWednesday\n",
       "1 0                  0                 0                  \n",
       "2 1                  0                 0                  \n",
       "3 1                  0                 0                  \n",
       "4 1                  0                 0                  \n",
       "5 0                  0                 1                  \n",
       "6 0                  0                 1                  "
      ]
     },
     "metadata": {},
     "output_type": "display_data"
    },
    {
     "data": {
      "text/html": [
       "<table>\n",
       "<thead><tr><th scope=col>launch_month</th></tr></thead>\n",
       "<tbody>\n",
       "\t<tr><td>2</td></tr>\n",
       "\t<tr><td>2</td></tr>\n",
       "\t<tr><td>2</td></tr>\n",
       "\t<tr><td>2</td></tr>\n",
       "\t<tr><td>2</td></tr>\n",
       "\t<tr><td>2</td></tr>\n",
       "</tbody>\n",
       "</table>\n"
      ],
      "text/latex": [
       "\\begin{tabular}{r|l}\n",
       " launch\\_month\\\\\n",
       "\\hline\n",
       "\t 2\\\\\n",
       "\t 2\\\\\n",
       "\t 2\\\\\n",
       "\t 2\\\\\n",
       "\t 2\\\\\n",
       "\t 2\\\\\n",
       "\\end{tabular}\n"
      ],
      "text/markdown": [
       "\n",
       "| launch_month |\n",
       "|---|\n",
       "| 2 |\n",
       "| 2 |\n",
       "| 2 |\n",
       "| 2 |\n",
       "| 2 |\n",
       "| 2 |\n",
       "\n"
      ],
      "text/plain": [
       "  launch_month\n",
       "1 2           \n",
       "2 2           \n",
       "3 2           \n",
       "4 2           \n",
       "5 2           \n",
       "6 2           "
      ]
     },
     "metadata": {},
     "output_type": "display_data"
    },
    {
     "data": {
      "text/html": [
       "<table>\n",
       "<thead><tr><th scope=col>launch_year</th></tr></thead>\n",
       "<tbody>\n",
       "\t<tr><td>2018</td></tr>\n",
       "\t<tr><td>2018</td></tr>\n",
       "\t<tr><td>2018</td></tr>\n",
       "\t<tr><td>2018</td></tr>\n",
       "\t<tr><td>2018</td></tr>\n",
       "\t<tr><td>2018</td></tr>\n",
       "</tbody>\n",
       "</table>\n"
      ],
      "text/latex": [
       "\\begin{tabular}{r|l}\n",
       " launch\\_year\\\\\n",
       "\\hline\n",
       "\t 2018\\\\\n",
       "\t 2018\\\\\n",
       "\t 2018\\\\\n",
       "\t 2018\\\\\n",
       "\t 2018\\\\\n",
       "\t 2018\\\\\n",
       "\\end{tabular}\n"
      ],
      "text/markdown": [
       "\n",
       "| launch_year |\n",
       "|---|\n",
       "| 2018 |\n",
       "| 2018 |\n",
       "| 2018 |\n",
       "| 2018 |\n",
       "| 2018 |\n",
       "| 2018 |\n",
       "\n"
      ],
      "text/plain": [
       "  launch_year\n",
       "1 2018       \n",
       "2 2018       \n",
       "3 2018       \n",
       "4 2018       \n",
       "5 2018       \n",
       "6 2018       "
      ]
     },
     "metadata": {},
     "output_type": "display_data"
    },
    {
     "data": {
      "text/html": [
       "<table>\n",
       "<thead><tr><th scope=col>lc_nameChicago</th><th scope=col>lc_nameLondon</th><th scope=col>lc_nameLos Angeles</th><th scope=col>lc_nameNew York</th><th scope=col>lc_nameOther</th></tr></thead>\n",
       "<tbody>\n",
       "\t<tr><td>0</td><td>0</td><td>0</td><td>0</td><td>1</td></tr>\n",
       "\t<tr><td>0</td><td>0</td><td>0</td><td>0</td><td>1</td></tr>\n",
       "\t<tr><td>0</td><td>0</td><td>0</td><td>0</td><td>1</td></tr>\n",
       "\t<tr><td>0</td><td>0</td><td>0</td><td>0</td><td>1</td></tr>\n",
       "\t<tr><td>0</td><td>0</td><td>0</td><td>0</td><td>1</td></tr>\n",
       "\t<tr><td>0</td><td>0</td><td>0</td><td>0</td><td>1</td></tr>\n",
       "</tbody>\n",
       "</table>\n"
      ],
      "text/latex": [
       "\\begin{tabular}{r|lllll}\n",
       " lc\\_nameChicago & lc\\_nameLondon & lc\\_nameLos Angeles & lc\\_nameNew York & lc\\_nameOther\\\\\n",
       "\\hline\n",
       "\t 0 & 0 & 0 & 0 & 1\\\\\n",
       "\t 0 & 0 & 0 & 0 & 1\\\\\n",
       "\t 0 & 0 & 0 & 0 & 1\\\\\n",
       "\t 0 & 0 & 0 & 0 & 1\\\\\n",
       "\t 0 & 0 & 0 & 0 & 1\\\\\n",
       "\t 0 & 0 & 0 & 0 & 1\\\\\n",
       "\\end{tabular}\n"
      ],
      "text/markdown": [
       "\n",
       "| lc_nameChicago | lc_nameLondon | lc_nameLos Angeles | lc_nameNew York | lc_nameOther |\n",
       "|---|---|---|---|---|\n",
       "| 0 | 0 | 0 | 0 | 1 |\n",
       "| 0 | 0 | 0 | 0 | 1 |\n",
       "| 0 | 0 | 0 | 0 | 1 |\n",
       "| 0 | 0 | 0 | 0 | 1 |\n",
       "| 0 | 0 | 0 | 0 | 1 |\n",
       "| 0 | 0 | 0 | 0 | 1 |\n",
       "\n"
      ],
      "text/plain": [
       "  lc_nameChicago lc_nameLondon lc_nameLos Angeles lc_nameNew York lc_nameOther\n",
       "1 0              0             0                  0               1           \n",
       "2 0              0             0                  0               1           \n",
       "3 0              0             0                  0               1           \n",
       "4 0              0             0                  0               1           \n",
       "5 0              0             0                  0               1           \n",
       "6 0              0             0                  0               1           "
      ]
     },
     "metadata": {},
     "output_type": "display_data"
    },
    {
     "data": {
      "text/html": [
       "<table>\n",
       "<thead><tr><th scope=col>lc_stateCA</th><th scope=col>lc_stateEngland</th><th scope=col>lc_stateNY</th><th scope=col>lc_stateOther</th></tr></thead>\n",
       "<tbody>\n",
       "\t<tr><td>0</td><td>0</td><td>0</td><td>1</td></tr>\n",
       "\t<tr><td>0</td><td>0</td><td>1</td><td>0</td></tr>\n",
       "\t<tr><td>0</td><td>0</td><td>0</td><td>1</td></tr>\n",
       "\t<tr><td>0</td><td>0</td><td>0</td><td>1</td></tr>\n",
       "\t<tr><td>0</td><td>0</td><td>0</td><td>1</td></tr>\n",
       "\t<tr><td>0</td><td>0</td><td>0</td><td>1</td></tr>\n",
       "</tbody>\n",
       "</table>\n"
      ],
      "text/latex": [
       "\\begin{tabular}{r|llll}\n",
       " lc\\_stateCA & lc\\_stateEngland & lc\\_stateNY & lc\\_stateOther\\\\\n",
       "\\hline\n",
       "\t 0 & 0 & 0 & 1\\\\\n",
       "\t 0 & 0 & 1 & 0\\\\\n",
       "\t 0 & 0 & 0 & 1\\\\\n",
       "\t 0 & 0 & 0 & 1\\\\\n",
       "\t 0 & 0 & 0 & 1\\\\\n",
       "\t 0 & 0 & 0 & 1\\\\\n",
       "\\end{tabular}\n"
      ],
      "text/markdown": [
       "\n",
       "| lc_stateCA | lc_stateEngland | lc_stateNY | lc_stateOther |\n",
       "|---|---|---|---|\n",
       "| 0 | 0 | 0 | 1 |\n",
       "| 0 | 0 | 1 | 0 |\n",
       "| 0 | 0 | 0 | 1 |\n",
       "| 0 | 0 | 0 | 1 |\n",
       "| 0 | 0 | 0 | 1 |\n",
       "| 0 | 0 | 0 | 1 |\n",
       "\n"
      ],
      "text/plain": [
       "  lc_stateCA lc_stateEngland lc_stateNY lc_stateOther\n",
       "1 0          0               0          1            \n",
       "2 0          0               1          0            \n",
       "3 0          0               0          1            \n",
       "4 0          0               0          1            \n",
       "5 0          0               0          1            \n",
       "6 0          0               0          1            "
      ]
     },
     "metadata": {},
     "output_type": "display_data"
    },
    {
     "data": {
      "text/html": [
       "<table>\n",
       "<thead><tr><th scope=col>lc_expanded_countryAustralia</th><th scope=col>lc_expanded_countryCanada</th><th scope=col>lc_expanded_countryOther</th><th scope=col>lc_expanded_countryUnited Kingdom</th><th scope=col>lc_expanded_countryUnited States</th></tr></thead>\n",
       "<tbody>\n",
       "\t<tr><td>0</td><td>0</td><td>0</td><td>0</td><td>1</td></tr>\n",
       "\t<tr><td>0</td><td>0</td><td>0</td><td>0</td><td>1</td></tr>\n",
       "\t<tr><td>0</td><td>0</td><td>0</td><td>0</td><td>1</td></tr>\n",
       "\t<tr><td>1</td><td>0</td><td>0</td><td>0</td><td>0</td></tr>\n",
       "\t<tr><td>0</td><td>0</td><td>0</td><td>0</td><td>1</td></tr>\n",
       "\t<tr><td>0</td><td>0</td><td>1</td><td>0</td><td>0</td></tr>\n",
       "</tbody>\n",
       "</table>\n"
      ],
      "text/latex": [
       "\\begin{tabular}{r|lllll}\n",
       " lc\\_expanded\\_countryAustralia & lc\\_expanded\\_countryCanada & lc\\_expanded\\_countryOther & lc\\_expanded\\_countryUnited Kingdom & lc\\_expanded\\_countryUnited States\\\\\n",
       "\\hline\n",
       "\t 0 & 0 & 0 & 0 & 1\\\\\n",
       "\t 0 & 0 & 0 & 0 & 1\\\\\n",
       "\t 0 & 0 & 0 & 0 & 1\\\\\n",
       "\t 1 & 0 & 0 & 0 & 0\\\\\n",
       "\t 0 & 0 & 0 & 0 & 1\\\\\n",
       "\t 0 & 0 & 1 & 0 & 0\\\\\n",
       "\\end{tabular}\n"
      ],
      "text/markdown": [
       "\n",
       "| lc_expanded_countryAustralia | lc_expanded_countryCanada | lc_expanded_countryOther | lc_expanded_countryUnited Kingdom | lc_expanded_countryUnited States |\n",
       "|---|---|---|---|---|\n",
       "| 0 | 0 | 0 | 0 | 1 |\n",
       "| 0 | 0 | 0 | 0 | 1 |\n",
       "| 0 | 0 | 0 | 0 | 1 |\n",
       "| 1 | 0 | 0 | 0 | 0 |\n",
       "| 0 | 0 | 0 | 0 | 1 |\n",
       "| 0 | 0 | 1 | 0 | 0 |\n",
       "\n"
      ],
      "text/plain": [
       "  lc_expanded_countryAustralia lc_expanded_countryCanada\n",
       "1 0                            0                        \n",
       "2 0                            0                        \n",
       "3 0                            0                        \n",
       "4 1                            0                        \n",
       "5 0                            0                        \n",
       "6 0                            0                        \n",
       "  lc_expanded_countryOther lc_expanded_countryUnited Kingdom\n",
       "1 0                        0                                \n",
       "2 0                        0                                \n",
       "3 0                        0                                \n",
       "4 0                        0                                \n",
       "5 0                        0                                \n",
       "6 1                        0                                \n",
       "  lc_expanded_countryUnited States\n",
       "1 1                               \n",
       "2 1                               \n",
       "3 1                               \n",
       "4 0                               \n",
       "5 1                               \n",
       "6 0                               "
      ]
     },
     "metadata": {},
     "output_type": "display_data"
    },
    {
     "data": {
      "text/html": [
       "<table>\n",
       "<thead><tr><th scope=col>ctgy_parent_nameArt</th><th scope=col>ctgy_parent_nameComics</th><th scope=col>ctgy_parent_nameCrafts</th><th scope=col>ctgy_parent_nameDance</th><th scope=col>ctgy_parent_nameDesign</th><th scope=col>ctgy_parent_nameFashion</th><th scope=col>ctgy_parent_nameFilm &amp; Video</th><th scope=col>ctgy_parent_nameFood</th><th scope=col>ctgy_parent_nameGames</th><th scope=col>ctgy_parent_nameJournalism</th><th scope=col>ctgy_parent_nameMusic</th><th scope=col>ctgy_parent_namePhotography</th><th scope=col>ctgy_parent_namePublishing</th><th scope=col>ctgy_parent_nameTechnology</th><th scope=col>ctgy_parent_nameTheater</th></tr></thead>\n",
       "<tbody>\n",
       "\t<tr><td>0</td><td>1</td><td>0</td><td>0</td><td>0</td><td>0</td><td>0</td><td>0</td><td>0</td><td>0</td><td>0</td><td>0</td><td>0</td><td>0</td><td>0</td></tr>\n",
       "\t<tr><td>0</td><td>1</td><td>0</td><td>0</td><td>0</td><td>0</td><td>0</td><td>0</td><td>0</td><td>0</td><td>0</td><td>0</td><td>0</td><td>0</td><td>0</td></tr>\n",
       "\t<tr><td>0</td><td>1</td><td>0</td><td>0</td><td>0</td><td>0</td><td>0</td><td>0</td><td>0</td><td>0</td><td>0</td><td>0</td><td>0</td><td>0</td><td>0</td></tr>\n",
       "\t<tr><td>0</td><td>1</td><td>0</td><td>0</td><td>0</td><td>0</td><td>0</td><td>0</td><td>0</td><td>0</td><td>0</td><td>0</td><td>0</td><td>0</td><td>0</td></tr>\n",
       "\t<tr><td>0</td><td>1</td><td>0</td><td>0</td><td>0</td><td>0</td><td>0</td><td>0</td><td>0</td><td>0</td><td>0</td><td>0</td><td>0</td><td>0</td><td>0</td></tr>\n",
       "\t<tr><td>0</td><td>1</td><td>0</td><td>0</td><td>0</td><td>0</td><td>0</td><td>0</td><td>0</td><td>0</td><td>0</td><td>0</td><td>0</td><td>0</td><td>0</td></tr>\n",
       "</tbody>\n",
       "</table>\n"
      ],
      "text/latex": [
       "\\begin{tabular}{r|lllllllllllllll}\n",
       " ctgy\\_parent\\_nameArt & ctgy\\_parent\\_nameComics & ctgy\\_parent\\_nameCrafts & ctgy\\_parent\\_nameDance & ctgy\\_parent\\_nameDesign & ctgy\\_parent\\_nameFashion & ctgy\\_parent\\_nameFilm \\& Video & ctgy\\_parent\\_nameFood & ctgy\\_parent\\_nameGames & ctgy\\_parent\\_nameJournalism & ctgy\\_parent\\_nameMusic & ctgy\\_parent\\_namePhotography & ctgy\\_parent\\_namePublishing & ctgy\\_parent\\_nameTechnology & ctgy\\_parent\\_nameTheater\\\\\n",
       "\\hline\n",
       "\t 0 & 1 & 0 & 0 & 0 & 0 & 0 & 0 & 0 & 0 & 0 & 0 & 0 & 0 & 0\\\\\n",
       "\t 0 & 1 & 0 & 0 & 0 & 0 & 0 & 0 & 0 & 0 & 0 & 0 & 0 & 0 & 0\\\\\n",
       "\t 0 & 1 & 0 & 0 & 0 & 0 & 0 & 0 & 0 & 0 & 0 & 0 & 0 & 0 & 0\\\\\n",
       "\t 0 & 1 & 0 & 0 & 0 & 0 & 0 & 0 & 0 & 0 & 0 & 0 & 0 & 0 & 0\\\\\n",
       "\t 0 & 1 & 0 & 0 & 0 & 0 & 0 & 0 & 0 & 0 & 0 & 0 & 0 & 0 & 0\\\\\n",
       "\t 0 & 1 & 0 & 0 & 0 & 0 & 0 & 0 & 0 & 0 & 0 & 0 & 0 & 0 & 0\\\\\n",
       "\\end{tabular}\n"
      ],
      "text/markdown": [
       "\n",
       "| ctgy_parent_nameArt | ctgy_parent_nameComics | ctgy_parent_nameCrafts | ctgy_parent_nameDance | ctgy_parent_nameDesign | ctgy_parent_nameFashion | ctgy_parent_nameFilm & Video | ctgy_parent_nameFood | ctgy_parent_nameGames | ctgy_parent_nameJournalism | ctgy_parent_nameMusic | ctgy_parent_namePhotography | ctgy_parent_namePublishing | ctgy_parent_nameTechnology | ctgy_parent_nameTheater |\n",
       "|---|---|---|---|---|---|---|---|---|---|---|---|---|---|---|\n",
       "| 0 | 1 | 0 | 0 | 0 | 0 | 0 | 0 | 0 | 0 | 0 | 0 | 0 | 0 | 0 |\n",
       "| 0 | 1 | 0 | 0 | 0 | 0 | 0 | 0 | 0 | 0 | 0 | 0 | 0 | 0 | 0 |\n",
       "| 0 | 1 | 0 | 0 | 0 | 0 | 0 | 0 | 0 | 0 | 0 | 0 | 0 | 0 | 0 |\n",
       "| 0 | 1 | 0 | 0 | 0 | 0 | 0 | 0 | 0 | 0 | 0 | 0 | 0 | 0 | 0 |\n",
       "| 0 | 1 | 0 | 0 | 0 | 0 | 0 | 0 | 0 | 0 | 0 | 0 | 0 | 0 | 0 |\n",
       "| 0 | 1 | 0 | 0 | 0 | 0 | 0 | 0 | 0 | 0 | 0 | 0 | 0 | 0 | 0 |\n",
       "\n"
      ],
      "text/plain": [
       "  ctgy_parent_nameArt ctgy_parent_nameComics ctgy_parent_nameCrafts\n",
       "1 0                   1                      0                     \n",
       "2 0                   1                      0                     \n",
       "3 0                   1                      0                     \n",
       "4 0                   1                      0                     \n",
       "5 0                   1                      0                     \n",
       "6 0                   1                      0                     \n",
       "  ctgy_parent_nameDance ctgy_parent_nameDesign ctgy_parent_nameFashion\n",
       "1 0                     0                      0                      \n",
       "2 0                     0                      0                      \n",
       "3 0                     0                      0                      \n",
       "4 0                     0                      0                      \n",
       "5 0                     0                      0                      \n",
       "6 0                     0                      0                      \n",
       "  ctgy_parent_nameFilm & Video ctgy_parent_nameFood ctgy_parent_nameGames\n",
       "1 0                            0                    0                    \n",
       "2 0                            0                    0                    \n",
       "3 0                            0                    0                    \n",
       "4 0                            0                    0                    \n",
       "5 0                            0                    0                    \n",
       "6 0                            0                    0                    \n",
       "  ctgy_parent_nameJournalism ctgy_parent_nameMusic ctgy_parent_namePhotography\n",
       "1 0                          0                     0                          \n",
       "2 0                          0                     0                          \n",
       "3 0                          0                     0                          \n",
       "4 0                          0                     0                          \n",
       "5 0                          0                     0                          \n",
       "6 0                          0                     0                          \n",
       "  ctgy_parent_namePublishing ctgy_parent_nameTechnology ctgy_parent_nameTheater\n",
       "1 0                          0                          0                      \n",
       "2 0                          0                          0                      \n",
       "3 0                          0                          0                      \n",
       "4 0                          0                          0                      \n",
       "5 0                          0                          0                      \n",
       "6 0                          0                          0                      "
      ]
     },
     "metadata": {},
     "output_type": "display_data"
    }
   ],
   "source": [
    "head(staff_pick<-model.matrix(~ staff_pick-1, df1))\n",
    "head(launch_day<-model.matrix(~ launch_day-1, df1))\n",
    "\n",
    "head(launch_month<-model.matrix(~ launch_month-1, df1))\n",
    "head(launch_year<-model.matrix(~ launch_year-1, df1))\n",
    "\n",
    "head(lc_name<-model.matrix(~ lc_name-1, df1))\n",
    "head(lc_state<-model.matrix(~ lc_state-1, df1))\n",
    "\n",
    "head(lc_expanded_country<-model.matrix(~ lc_expanded_country-1, df1))\n",
    "head(ctgy_parent_name<-model.matrix(~ ctgy_parent_name-1, df1))"
   ]
  },
  {
   "cell_type": "code",
   "execution_count": 11,
   "metadata": {},
   "outputs": [
    {
     "data": {
      "text/html": [
       "<table>\n",
       "<thead><tr><th scope=col>staff_pickFalse</th><th scope=col>staff_pickTrue</th><th scope=col>launch_dayFriday</th><th scope=col>launch_dayMonday</th><th scope=col>launch_daySaturday</th><th scope=col>launch_daySunday</th><th scope=col>launch_dayThursday</th><th scope=col>launch_dayTuesday</th><th scope=col>launch_dayWednesday</th><th scope=col>lc_nameChicago</th><th scope=col>...</th><th scope=col>ctgy_parent_nameFashion</th><th scope=col>ctgy_parent_nameFilm &amp; Video</th><th scope=col>ctgy_parent_nameFood</th><th scope=col>ctgy_parent_nameGames</th><th scope=col>ctgy_parent_nameJournalism</th><th scope=col>ctgy_parent_nameMusic</th><th scope=col>ctgy_parent_namePhotography</th><th scope=col>ctgy_parent_namePublishing</th><th scope=col>ctgy_parent_nameTechnology</th><th scope=col>ctgy_parent_nameTheater</th></tr></thead>\n",
       "<tbody>\n",
       "\t<tr><td>1  </td><td>0  </td><td>0  </td><td>0  </td><td>1  </td><td>0  </td><td>0  </td><td>0  </td><td>0  </td><td>0  </td><td>...</td><td>0  </td><td>0  </td><td>0  </td><td>0  </td><td>0  </td><td>0  </td><td>0  </td><td>0  </td><td>0  </td><td>0  </td></tr>\n",
       "\t<tr><td>0  </td><td>1  </td><td>0  </td><td>0  </td><td>0  </td><td>0  </td><td>1  </td><td>0  </td><td>0  </td><td>0  </td><td>...</td><td>0  </td><td>0  </td><td>0  </td><td>0  </td><td>0  </td><td>0  </td><td>0  </td><td>0  </td><td>0  </td><td>0  </td></tr>\n",
       "\t<tr><td>1  </td><td>0  </td><td>0  </td><td>0  </td><td>0  </td><td>0  </td><td>1  </td><td>0  </td><td>0  </td><td>0  </td><td>...</td><td>0  </td><td>0  </td><td>0  </td><td>0  </td><td>0  </td><td>0  </td><td>0  </td><td>0  </td><td>0  </td><td>0  </td></tr>\n",
       "\t<tr><td>0  </td><td>1  </td><td>0  </td><td>0  </td><td>0  </td><td>0  </td><td>1  </td><td>0  </td><td>0  </td><td>0  </td><td>...</td><td>0  </td><td>0  </td><td>0  </td><td>0  </td><td>0  </td><td>0  </td><td>0  </td><td>0  </td><td>0  </td><td>0  </td></tr>\n",
       "\t<tr><td>1  </td><td>0  </td><td>0  </td><td>0  </td><td>0  </td><td>0  </td><td>0  </td><td>0  </td><td>1  </td><td>0  </td><td>...</td><td>0  </td><td>0  </td><td>0  </td><td>0  </td><td>0  </td><td>0  </td><td>0  </td><td>0  </td><td>0  </td><td>0  </td></tr>\n",
       "\t<tr><td>0  </td><td>1  </td><td>0  </td><td>0  </td><td>0  </td><td>0  </td><td>0  </td><td>0  </td><td>1  </td><td>0  </td><td>...</td><td>0  </td><td>0  </td><td>0  </td><td>0  </td><td>0  </td><td>0  </td><td>0  </td><td>0  </td><td>0  </td><td>0  </td></tr>\n",
       "</tbody>\n",
       "</table>\n"
      ],
      "text/latex": [
       "\\begin{tabular}{r|llllllllllllllllllllllllllllllllllllll}\n",
       " staff\\_pickFalse & staff\\_pickTrue & launch\\_dayFriday & launch\\_dayMonday & launch\\_daySaturday & launch\\_daySunday & launch\\_dayThursday & launch\\_dayTuesday & launch\\_dayWednesday & lc\\_nameChicago & ... & ctgy\\_parent\\_nameFashion & ctgy\\_parent\\_nameFilm \\& Video & ctgy\\_parent\\_nameFood & ctgy\\_parent\\_nameGames & ctgy\\_parent\\_nameJournalism & ctgy\\_parent\\_nameMusic & ctgy\\_parent\\_namePhotography & ctgy\\_parent\\_namePublishing & ctgy\\_parent\\_nameTechnology & ctgy\\_parent\\_nameTheater\\\\\n",
       "\\hline\n",
       "\t 1   & 0   & 0   & 0   & 1   & 0   & 0   & 0   & 0   & 0   & ... & 0   & 0   & 0   & 0   & 0   & 0   & 0   & 0   & 0   & 0  \\\\\n",
       "\t 0   & 1   & 0   & 0   & 0   & 0   & 1   & 0   & 0   & 0   & ... & 0   & 0   & 0   & 0   & 0   & 0   & 0   & 0   & 0   & 0  \\\\\n",
       "\t 1   & 0   & 0   & 0   & 0   & 0   & 1   & 0   & 0   & 0   & ... & 0   & 0   & 0   & 0   & 0   & 0   & 0   & 0   & 0   & 0  \\\\\n",
       "\t 0   & 1   & 0   & 0   & 0   & 0   & 1   & 0   & 0   & 0   & ... & 0   & 0   & 0   & 0   & 0   & 0   & 0   & 0   & 0   & 0  \\\\\n",
       "\t 1   & 0   & 0   & 0   & 0   & 0   & 0   & 0   & 1   & 0   & ... & 0   & 0   & 0   & 0   & 0   & 0   & 0   & 0   & 0   & 0  \\\\\n",
       "\t 0   & 1   & 0   & 0   & 0   & 0   & 0   & 0   & 1   & 0   & ... & 0   & 0   & 0   & 0   & 0   & 0   & 0   & 0   & 0   & 0  \\\\\n",
       "\\end{tabular}\n"
      ],
      "text/markdown": [
       "\n",
       "| staff_pickFalse | staff_pickTrue | launch_dayFriday | launch_dayMonday | launch_daySaturday | launch_daySunday | launch_dayThursday | launch_dayTuesday | launch_dayWednesday | lc_nameChicago | ... | ctgy_parent_nameFashion | ctgy_parent_nameFilm & Video | ctgy_parent_nameFood | ctgy_parent_nameGames | ctgy_parent_nameJournalism | ctgy_parent_nameMusic | ctgy_parent_namePhotography | ctgy_parent_namePublishing | ctgy_parent_nameTechnology | ctgy_parent_nameTheater |\n",
       "|---|---|---|---|---|---|---|---|---|---|---|---|---|---|---|---|---|---|---|---|---|\n",
       "| 1   | 0   | 0   | 0   | 1   | 0   | 0   | 0   | 0   | 0   | ... | 0   | 0   | 0   | 0   | 0   | 0   | 0   | 0   | 0   | 0   |\n",
       "| 0   | 1   | 0   | 0   | 0   | 0   | 1   | 0   | 0   | 0   | ... | 0   | 0   | 0   | 0   | 0   | 0   | 0   | 0   | 0   | 0   |\n",
       "| 1   | 0   | 0   | 0   | 0   | 0   | 1   | 0   | 0   | 0   | ... | 0   | 0   | 0   | 0   | 0   | 0   | 0   | 0   | 0   | 0   |\n",
       "| 0   | 1   | 0   | 0   | 0   | 0   | 1   | 0   | 0   | 0   | ... | 0   | 0   | 0   | 0   | 0   | 0   | 0   | 0   | 0   | 0   |\n",
       "| 1   | 0   | 0   | 0   | 0   | 0   | 0   | 0   | 1   | 0   | ... | 0   | 0   | 0   | 0   | 0   | 0   | 0   | 0   | 0   | 0   |\n",
       "| 0   | 1   | 0   | 0   | 0   | 0   | 0   | 0   | 1   | 0   | ... | 0   | 0   | 0   | 0   | 0   | 0   | 0   | 0   | 0   | 0   |\n",
       "\n"
      ],
      "text/plain": [
       "  staff_pickFalse staff_pickTrue launch_dayFriday launch_dayMonday\n",
       "1 1               0              0                0               \n",
       "2 0               1              0                0               \n",
       "3 1               0              0                0               \n",
       "4 0               1              0                0               \n",
       "5 1               0              0                0               \n",
       "6 0               1              0                0               \n",
       "  launch_daySaturday launch_daySunday launch_dayThursday launch_dayTuesday\n",
       "1 1                  0                0                  0                \n",
       "2 0                  0                1                  0                \n",
       "3 0                  0                1                  0                \n",
       "4 0                  0                1                  0                \n",
       "5 0                  0                0                  0                \n",
       "6 0                  0                0                  0                \n",
       "  launch_dayWednesday lc_nameChicago ... ctgy_parent_nameFashion\n",
       "1 0                   0              ... 0                      \n",
       "2 0                   0              ... 0                      \n",
       "3 0                   0              ... 0                      \n",
       "4 0                   0              ... 0                      \n",
       "5 1                   0              ... 0                      \n",
       "6 1                   0              ... 0                      \n",
       "  ctgy_parent_nameFilm & Video ctgy_parent_nameFood ctgy_parent_nameGames\n",
       "1 0                            0                    0                    \n",
       "2 0                            0                    0                    \n",
       "3 0                            0                    0                    \n",
       "4 0                            0                    0                    \n",
       "5 0                            0                    0                    \n",
       "6 0                            0                    0                    \n",
       "  ctgy_parent_nameJournalism ctgy_parent_nameMusic ctgy_parent_namePhotography\n",
       "1 0                          0                     0                          \n",
       "2 0                          0                     0                          \n",
       "3 0                          0                     0                          \n",
       "4 0                          0                     0                          \n",
       "5 0                          0                     0                          \n",
       "6 0                          0                     0                          \n",
       "  ctgy_parent_namePublishing ctgy_parent_nameTechnology ctgy_parent_nameTheater\n",
       "1 0                          0                          0                      \n",
       "2 0                          0                          0                      \n",
       "3 0                          0                          0                      \n",
       "4 0                          0                          0                      \n",
       "5 0                          0                          0                      \n",
       "6 0                          0                          0                      "
      ]
     },
     "metadata": {},
     "output_type": "display_data"
    }
   ],
   "source": [
    "df_ctgy_num <- cbind(staff_pick, launch_day, lc_name, lc_state, lc_expanded_country, ctgy_parent_name)\n",
    "head(df_ctgy_num)"
   ]
  },
  {
   "cell_type": "code",
   "execution_count": 12,
   "metadata": {},
   "outputs": [
    {
     "data": {
      "text/html": [
       "<table>\n",
       "<thead><tr><th scope=col>goal</th><th scope=col>launch_month</th><th scope=col>launch_hour</th><th scope=col>launch_year</th><th scope=col>campaignDuration</th><th scope=col>daysToLaunch</th><th scope=col>price</th><th scope=col>state</th></tr></thead>\n",
       "<tbody>\n",
       "\t<tr><td>1500  </td><td>2     </td><td>13    </td><td>2018  </td><td>31    </td><td> 28   </td><td> 26.73</td><td>0     </td></tr>\n",
       "\t<tr><td>8000  </td><td>2     </td><td>22    </td><td>2018  </td><td>44    </td><td>  2   </td><td> 76.15</td><td>0     </td></tr>\n",
       "\t<tr><td>2000  </td><td>2     </td><td>20    </td><td>2018  </td><td>59    </td><td>165   </td><td> 35.18</td><td>0     </td></tr>\n",
       "\t<tr><td>2500  </td><td>2     </td><td>11    </td><td>2018  </td><td>27    </td><td>112   </td><td> 40.70</td><td>0     </td></tr>\n",
       "\t<tr><td>7000  </td><td>2     </td><td>13    </td><td>2018  </td><td>32    </td><td>146   </td><td>111.38</td><td>0     </td></tr>\n",
       "\t<tr><td>7000  </td><td>2     </td><td> 6    </td><td>2018  </td><td>20    </td><td> 20   </td><td> 10.76</td><td>0     </td></tr>\n",
       "</tbody>\n",
       "</table>\n"
      ],
      "text/latex": [
       "\\begin{tabular}{r|llllllll}\n",
       " goal & launch\\_month & launch\\_hour & launch\\_year & campaignDuration & daysToLaunch & price & state\\\\\n",
       "\\hline\n",
       "\t 1500   & 2      & 13     & 2018   & 31     &  28    &  26.73 & 0     \\\\\n",
       "\t 8000   & 2      & 22     & 2018   & 44     &   2    &  76.15 & 0     \\\\\n",
       "\t 2000   & 2      & 20     & 2018   & 59     & 165    &  35.18 & 0     \\\\\n",
       "\t 2500   & 2      & 11     & 2018   & 27     & 112    &  40.70 & 0     \\\\\n",
       "\t 7000   & 2      & 13     & 2018   & 32     & 146    & 111.38 & 0     \\\\\n",
       "\t 7000   & 2      &  6     & 2018   & 20     &  20    &  10.76 & 0     \\\\\n",
       "\\end{tabular}\n"
      ],
      "text/markdown": [
       "\n",
       "| goal | launch_month | launch_hour | launch_year | campaignDuration | daysToLaunch | price | state |\n",
       "|---|---|---|---|---|---|---|---|\n",
       "| 1500   | 2      | 13     | 2018   | 31     |  28    |  26.73 | 0      |\n",
       "| 8000   | 2      | 22     | 2018   | 44     |   2    |  76.15 | 0      |\n",
       "| 2000   | 2      | 20     | 2018   | 59     | 165    |  35.18 | 0      |\n",
       "| 2500   | 2      | 11     | 2018   | 27     | 112    |  40.70 | 0      |\n",
       "| 7000   | 2      | 13     | 2018   | 32     | 146    | 111.38 | 0      |\n",
       "| 7000   | 2      |  6     | 2018   | 20     |  20    |  10.76 | 0      |\n",
       "\n"
      ],
      "text/plain": [
       "  goal launch_month launch_hour launch_year campaignDuration daysToLaunch\n",
       "1 1500 2            13          2018        31                28         \n",
       "2 8000 2            22          2018        44                 2         \n",
       "3 2000 2            20          2018        59               165         \n",
       "4 2500 2            11          2018        27               112         \n",
       "5 7000 2            13          2018        32               146         \n",
       "6 7000 2             6          2018        20                20         \n",
       "  price  state\n",
       "1  26.73 0    \n",
       "2  76.15 0    \n",
       "3  35.18 0    \n",
       "4  40.70 0    \n",
       "5 111.38 0    \n",
       "6  10.76 0    "
      ]
     },
     "metadata": {},
     "output_type": "display_data"
    }
   ],
   "source": [
    "select_num <- c('goal','launch_month','launch_hour','launch_year','campaignDuration','daysToLaunch','price','state')\n",
    "head(df1[select_num])"
   ]
  },
  {
   "cell_type": "code",
   "execution_count": 13,
   "metadata": {},
   "outputs": [
    {
     "data": {
      "text/html": [
       "<table>\n",
       "<thead><tr><th scope=col>goal</th><th scope=col>launch_month</th><th scope=col>launch_hour</th><th scope=col>launch_year</th><th scope=col>campaignDuration</th><th scope=col>daysToLaunch</th><th scope=col>price</th><th scope=col>state</th><th scope=col>staff_pickFalse</th><th scope=col>staff_pickTrue</th><th scope=col>...</th><th scope=col>ctgy_parent_nameFashion</th><th scope=col>ctgy_parent_nameFilm...Video</th><th scope=col>ctgy_parent_nameFood</th><th scope=col>ctgy_parent_nameGames</th><th scope=col>ctgy_parent_nameJournalism</th><th scope=col>ctgy_parent_nameMusic</th><th scope=col>ctgy_parent_namePhotography</th><th scope=col>ctgy_parent_namePublishing</th><th scope=col>ctgy_parent_nameTechnology</th><th scope=col>ctgy_parent_nameTheater</th></tr></thead>\n",
       "<tbody>\n",
       "\t<tr><td>1500  </td><td>2     </td><td>13    </td><td>2018  </td><td>31    </td><td> 28   </td><td> 26.73</td><td>0     </td><td>1     </td><td>0     </td><td>...   </td><td>0     </td><td>0     </td><td>0     </td><td>0     </td><td>0     </td><td>0     </td><td>0     </td><td>0     </td><td>0     </td><td>0     </td></tr>\n",
       "\t<tr><td>8000  </td><td>2     </td><td>22    </td><td>2018  </td><td>44    </td><td>  2   </td><td> 76.15</td><td>0     </td><td>0     </td><td>1     </td><td>...   </td><td>0     </td><td>0     </td><td>0     </td><td>0     </td><td>0     </td><td>0     </td><td>0     </td><td>0     </td><td>0     </td><td>0     </td></tr>\n",
       "\t<tr><td>2000  </td><td>2     </td><td>20    </td><td>2018  </td><td>59    </td><td>165   </td><td> 35.18</td><td>0     </td><td>1     </td><td>0     </td><td>...   </td><td>0     </td><td>0     </td><td>0     </td><td>0     </td><td>0     </td><td>0     </td><td>0     </td><td>0     </td><td>0     </td><td>0     </td></tr>\n",
       "\t<tr><td>2500  </td><td>2     </td><td>11    </td><td>2018  </td><td>27    </td><td>112   </td><td> 40.70</td><td>0     </td><td>0     </td><td>1     </td><td>...   </td><td>0     </td><td>0     </td><td>0     </td><td>0     </td><td>0     </td><td>0     </td><td>0     </td><td>0     </td><td>0     </td><td>0     </td></tr>\n",
       "\t<tr><td>7000  </td><td>2     </td><td>13    </td><td>2018  </td><td>32    </td><td>146   </td><td>111.38</td><td>0     </td><td>1     </td><td>0     </td><td>...   </td><td>0     </td><td>0     </td><td>0     </td><td>0     </td><td>0     </td><td>0     </td><td>0     </td><td>0     </td><td>0     </td><td>0     </td></tr>\n",
       "\t<tr><td>7000  </td><td>2     </td><td> 6    </td><td>2018  </td><td>20    </td><td> 20   </td><td> 10.76</td><td>0     </td><td>0     </td><td>1     </td><td>...   </td><td>0     </td><td>0     </td><td>0     </td><td>0     </td><td>0     </td><td>0     </td><td>0     </td><td>0     </td><td>0     </td><td>0     </td></tr>\n",
       "</tbody>\n",
       "</table>\n"
      ],
      "text/latex": [
       "\\begin{tabular}{r|llllllllllllllllllllllllllllllllllllllllllllll}\n",
       " goal & launch\\_month & launch\\_hour & launch\\_year & campaignDuration & daysToLaunch & price & state & staff\\_pickFalse & staff\\_pickTrue & ... & ctgy\\_parent\\_nameFashion & ctgy\\_parent\\_nameFilm...Video & ctgy\\_parent\\_nameFood & ctgy\\_parent\\_nameGames & ctgy\\_parent\\_nameJournalism & ctgy\\_parent\\_nameMusic & ctgy\\_parent\\_namePhotography & ctgy\\_parent\\_namePublishing & ctgy\\_parent\\_nameTechnology & ctgy\\_parent\\_nameTheater\\\\\n",
       "\\hline\n",
       "\t 1500   & 2      & 13     & 2018   & 31     &  28    &  26.73 & 0      & 1      & 0      & ...    & 0      & 0      & 0      & 0      & 0      & 0      & 0      & 0      & 0      & 0     \\\\\n",
       "\t 8000   & 2      & 22     & 2018   & 44     &   2    &  76.15 & 0      & 0      & 1      & ...    & 0      & 0      & 0      & 0      & 0      & 0      & 0      & 0      & 0      & 0     \\\\\n",
       "\t 2000   & 2      & 20     & 2018   & 59     & 165    &  35.18 & 0      & 1      & 0      & ...    & 0      & 0      & 0      & 0      & 0      & 0      & 0      & 0      & 0      & 0     \\\\\n",
       "\t 2500   & 2      & 11     & 2018   & 27     & 112    &  40.70 & 0      & 0      & 1      & ...    & 0      & 0      & 0      & 0      & 0      & 0      & 0      & 0      & 0      & 0     \\\\\n",
       "\t 7000   & 2      & 13     & 2018   & 32     & 146    & 111.38 & 0      & 1      & 0      & ...    & 0      & 0      & 0      & 0      & 0      & 0      & 0      & 0      & 0      & 0     \\\\\n",
       "\t 7000   & 2      &  6     & 2018   & 20     &  20    &  10.76 & 0      & 0      & 1      & ...    & 0      & 0      & 0      & 0      & 0      & 0      & 0      & 0      & 0      & 0     \\\\\n",
       "\\end{tabular}\n"
      ],
      "text/markdown": [
       "\n",
       "| goal | launch_month | launch_hour | launch_year | campaignDuration | daysToLaunch | price | state | staff_pickFalse | staff_pickTrue | ... | ctgy_parent_nameFashion | ctgy_parent_nameFilm...Video | ctgy_parent_nameFood | ctgy_parent_nameGames | ctgy_parent_nameJournalism | ctgy_parent_nameMusic | ctgy_parent_namePhotography | ctgy_parent_namePublishing | ctgy_parent_nameTechnology | ctgy_parent_nameTheater |\n",
       "|---|---|---|---|---|---|---|---|---|---|---|---|---|---|---|---|---|---|---|---|---|\n",
       "| 1500   | 2      | 13     | 2018   | 31     |  28    |  26.73 | 0      | 1      | 0      | ...    | 0      | 0      | 0      | 0      | 0      | 0      | 0      | 0      | 0      | 0      |\n",
       "| 8000   | 2      | 22     | 2018   | 44     |   2    |  76.15 | 0      | 0      | 1      | ...    | 0      | 0      | 0      | 0      | 0      | 0      | 0      | 0      | 0      | 0      |\n",
       "| 2000   | 2      | 20     | 2018   | 59     | 165    |  35.18 | 0      | 1      | 0      | ...    | 0      | 0      | 0      | 0      | 0      | 0      | 0      | 0      | 0      | 0      |\n",
       "| 2500   | 2      | 11     | 2018   | 27     | 112    |  40.70 | 0      | 0      | 1      | ...    | 0      | 0      | 0      | 0      | 0      | 0      | 0      | 0      | 0      | 0      |\n",
       "| 7000   | 2      | 13     | 2018   | 32     | 146    | 111.38 | 0      | 1      | 0      | ...    | 0      | 0      | 0      | 0      | 0      | 0      | 0      | 0      | 0      | 0      |\n",
       "| 7000   | 2      |  6     | 2018   | 20     |  20    |  10.76 | 0      | 0      | 1      | ...    | 0      | 0      | 0      | 0      | 0      | 0      | 0      | 0      | 0      | 0      |\n",
       "\n"
      ],
      "text/plain": [
       "  goal launch_month launch_hour launch_year campaignDuration daysToLaunch\n",
       "1 1500 2            13          2018        31                28         \n",
       "2 8000 2            22          2018        44                 2         \n",
       "3 2000 2            20          2018        59               165         \n",
       "4 2500 2            11          2018        27               112         \n",
       "5 7000 2            13          2018        32               146         \n",
       "6 7000 2             6          2018        20                20         \n",
       "  price  state staff_pickFalse staff_pickTrue ... ctgy_parent_nameFashion\n",
       "1  26.73 0     1               0              ... 0                      \n",
       "2  76.15 0     0               1              ... 0                      \n",
       "3  35.18 0     1               0              ... 0                      \n",
       "4  40.70 0     0               1              ... 0                      \n",
       "5 111.38 0     1               0              ... 0                      \n",
       "6  10.76 0     0               1              ... 0                      \n",
       "  ctgy_parent_nameFilm...Video ctgy_parent_nameFood ctgy_parent_nameGames\n",
       "1 0                            0                    0                    \n",
       "2 0                            0                    0                    \n",
       "3 0                            0                    0                    \n",
       "4 0                            0                    0                    \n",
       "5 0                            0                    0                    \n",
       "6 0                            0                    0                    \n",
       "  ctgy_parent_nameJournalism ctgy_parent_nameMusic ctgy_parent_namePhotography\n",
       "1 0                          0                     0                          \n",
       "2 0                          0                     0                          \n",
       "3 0                          0                     0                          \n",
       "4 0                          0                     0                          \n",
       "5 0                          0                     0                          \n",
       "6 0                          0                     0                          \n",
       "  ctgy_parent_namePublishing ctgy_parent_nameTechnology ctgy_parent_nameTheater\n",
       "1 0                          0                          0                      \n",
       "2 0                          0                          0                      \n",
       "3 0                          0                          0                      \n",
       "4 0                          0                          0                      \n",
       "5 0                          0                          0                      \n",
       "6 0                          0                          0                      "
      ]
     },
     "metadata": {},
     "output_type": "display_data"
    }
   ],
   "source": [
    "df2<-cbind(df1[select_num],data.frame(df_ctgy_num))\n",
    "head(df2)"
   ]
  },
  {
   "cell_type": "code",
   "execution_count": 10,
   "metadata": {},
   "outputs": [],
   "source": [
    "#goal,launch_month,launch_hour,launch_year,campaignDuration,daysToLaunch,"
   ]
  },
  {
   "cell_type": "markdown",
   "metadata": {},
   "source": [
    "## Splitting data\n",
    "\n",
    "- Train : 80 %\n",
    "- Test : 20 %"
   ]
  },
  {
   "cell_type": "code",
   "execution_count": 15,
   "metadata": {},
   "outputs": [],
   "source": [
    "set.seed(500)\n",
    "split = sample.split(df2$state, SplitRatio = 0.8)\n",
    "train = subset(df2, split == TRUE)\n",
    "test = subset(df2, split == FALSE)"
   ]
  },
  {
   "cell_type": "code",
   "execution_count": 16,
   "metadata": {},
   "outputs": [
    {
     "name": "stderr",
     "output_type": "stream",
     "text": [
      "Train Rows=60142---Columns=46\n",
      "Test Rows=15036---Columns=46\n"
     ]
    }
   ],
   "source": [
    "message(\"Train Rows=\",dim(train)[1],'---Columns=',dim(train)[2])\n",
    "message(\"Test Rows=\",dim(test)[1],'---Columns=',dim(test)[2])"
   ]
  },
  {
   "cell_type": "markdown",
   "metadata": {},
   "source": [
    "## XGB Model\n",
    "\n",
    "Gradient boosting is part of a class of machine learning techniques known as ensemble methods. An ensemble method leverages the output of many weak learners in order to make a prediction. Typically, these weak learners are implemented as decision trees. While each individual weak learner might not get the answer right, on average, their combined answers should be pretty decent.\n",
    "\n",
    "In gradient boosting, each weak learner is chosen iteratively in a greedy manner, so as to minimize the loss function. **XGBoost is a highly optimized implementation of gradient boosting**. "
   ]
  },
  {
   "cell_type": "code",
   "execution_count": 18,
   "metadata": {},
   "outputs": [
    {
     "name": "stderr",
     "output_type": "stream",
     "text": [
      "X_train Rows: 60142---X_train Columns: 45\n",
      "X_test Rows: 15036---X_test Columns: 45\n"
     ]
    }
   ],
   "source": [
    "y_train  <-train$state\n",
    "#length(y_train)\n",
    "\n",
    "y_test <- test$state\n",
    "#length(y_test)\n",
    "\n",
    "\n",
    "cols_to_drop<-c('state')\n",
    "\n",
    "X_train<-train[ , !(names(train) %in% cols_to_drop)]\n",
    "#dim(X_train)\n",
    "message('X_train Rows: ',dim(X_train)[1],'---X_train Columns: ',dim(X_train)[2])\n",
    "\n",
    "cols_to_drop<-c('state')\n",
    "\n",
    "X_test<-test[ , !(names(test) %in% cols_to_drop)]\n",
    "message('X_test Rows: ',dim(X_test)[1],'---X_test Columns: ',dim(X_test)[2])\n"
   ]
  },
  {
   "cell_type": "markdown",
   "metadata": {},
   "source": [
    "- XGBoost algorithm takes a matrix as input.\n",
    "- Convert Dataframe to Dmatrix"
   ]
  },
  {
   "cell_type": "code",
   "execution_count": 26,
   "metadata": {},
   "outputs": [],
   "source": [
    "# convert your matrix into a Dmatrix\n",
    "dtrain <- xgb.DMatrix(data = as.matrix(X_train),label = y_train)\n",
    "dtest <- xgb.DMatrix(data = as.matrix(X_test),label = y_test)"
   ]
  },
  {
   "cell_type": "markdown",
   "metadata": {},
   "source": [
    "## Model Training\n",
    "\n",
    "- The first argument of xgboost() takes a Dmatrix object.\n",
    "\n",
    "- The second argument, nround, is the number of times we want to improve--or boost--our naive model by adding additional error models.\n",
    "\n",
    "- Since its a binary Classification, we will specify the third argument as logistic regression for binary classification."
   ]
  },
  {
   "cell_type": "code",
   "execution_count": 27,
   "metadata": {},
   "outputs": [
    {
     "name": "stdout",
     "output_type": "stream",
     "text": [
      "[11:01:24] WARNING: amalgamation/../src/learner.cc:1095: Starting in XGBoost 1.3.0, the default evaluation metric used with the objective 'binary:logistic' was changed from 'error' to 'logloss'. Explicitly set eval_metric if you'd like to restore the old behavior.\n",
      "[1]\ttrain-logloss:0.525013 \n",
      "[2]\ttrain-logloss:0.431866 \n"
     ]
    }
   ],
   "source": [
    "# fit a model to your horse matrix\n",
    "xgb_model <- xgboost(data = dtrain, # Dmatrix of data\n",
    "                       nround = 2, # boosting iterations\n",
    "                       objective = \"binary:logistic\")"
   ]
  },
  {
   "cell_type": "markdown",
   "metadata": {},
   "source": [
    "## Training Accuracy / Metrics"
   ]
  },
  {
   "cell_type": "code",
   "execution_count": 28,
   "metadata": {},
   "outputs": [
    {
     "data": {
      "text/plain": [
       "       \n",
       "y_train FALSE  TRUE\n",
       "      0 43519  1053\n",
       "      1  5409 10161"
      ]
     },
     "metadata": {},
     "output_type": "display_data"
    }
   ],
   "source": [
    "\n",
    "prob_pred = predict(xgb_model, newdata = dtrain)\n",
    "y_pred = ifelse(prob_pred > 0.5, 1, 0)\n",
    "\n",
    "# Checking the prediction accuracy\n",
    "table(y_train, y_pred > 0.5) # Confusion matrix"
   ]
  },
  {
   "cell_type": "code",
   "execution_count": 29,
   "metadata": {},
   "outputs": [
    {
     "name": "stdout",
     "output_type": "stream",
     "text": [
      "[1] \"train-error= 0.10744571181537\"\n"
     ]
    }
   ],
   "source": [
    "err <- mean(as.numeric(prob_pred > 0.5) != y_train)\n",
    "print(paste(\"train-error=\", err))"
   ]
  },
  {
   "cell_type": "code",
   "execution_count": 30,
   "metadata": {},
   "outputs": [
    {
     "name": "stderr",
     "output_type": "stream",
     "text": [
      "Accuracy= 89.26 %\n"
     ]
    }
   ],
   "source": [
    "message(\"Accuracy= \",round(((43519+10161)/dim(train)[1])*100,2),' %')\n"
   ]
  },
  {
   "cell_type": "code",
   "execution_count": 31,
   "metadata": {},
   "outputs": [
    {
     "data": {
      "text/plain": [
       "Confusion Matrix and Statistics\n",
       "\n",
       "          Reference\n",
       "Prediction     0     1\n",
       "         0 43519  5409\n",
       "         1  1053 10161\n",
       "                                         \n",
       "               Accuracy : 0.8926         \n",
       "                 95% CI : (0.8901, 0.895)\n",
       "    No Information Rate : 0.7411         \n",
       "    P-Value [Acc > NIR] : < 2.2e-16      \n",
       "                                         \n",
       "                  Kappa : 0.692          \n",
       "                                         \n",
       " Mcnemar's Test P-Value : < 2.2e-16      \n",
       "                                         \n",
       "            Sensitivity : 0.6526         \n",
       "            Specificity : 0.9764         \n",
       "         Pos Pred Value : 0.9061         \n",
       "         Neg Pred Value : 0.8894         \n",
       "              Precision : 0.9061         \n",
       "                 Recall : 0.6526         \n",
       "                     F1 : 0.7587         \n",
       "             Prevalence : 0.2589         \n",
       "         Detection Rate : 0.1690         \n",
       "   Detection Prevalence : 0.1865         \n",
       "      Balanced Accuracy : 0.8145         \n",
       "                                         \n",
       "       'Positive' Class : 1              \n",
       "                                         "
      ]
     },
     "metadata": {},
     "output_type": "display_data"
    }
   ],
   "source": [
    "confusionMatrix(factor(y_pred),factor(y_train),mode = \"everything\", positive=\"1\")"
   ]
  },
  {
   "cell_type": "code",
   "execution_count": 32,
   "metadata": {},
   "outputs": [
    {
     "name": "stderr",
     "output_type": "stream",
     "text": [
      "Train F1 Score: 0.75\n"
     ]
    }
   ],
   "source": [
    "message(\"Train F1 Score: \",0.75)"
   ]
  },
  {
   "cell_type": "markdown",
   "metadata": {},
   "source": [
    "## Hyperparameter Tuning + Cross Validation + Early Stopping\n",
    "\n",
    "### Crossvalidation\n",
    "\n",
    "10 fold cross validation with xgb.cv\n",
    "\n",
    "\n",
    "### Hyperparameter Tuning\n",
    "\n",
    "\n",
    "Parameters for Tree Booster\n",
    "- **nrounds[default=100]**\n",
    "    It controls the maximum number of iterations. For classification, it is similar to the number of trees to grow.\n",
    "- **eta[default=0.3][range: (0,1)]**\n",
    "    It controls the learning rate, i.e., the rate at which our model learns patterns in data. After every round, it shrinks the feature weights to reach the best optimum.\n",
    "\n",
    "- **gamma[default=0][range: (0,Inf)]**\n",
    "    It controls regularization (or prevents overfitting). The optimal value of gamma depends on the data set and other parameter values.\n",
    "- **max_depth[default=6][range: (0,Inf)]**\n",
    "    It controls the depth of the tree.\n",
    "\n",
    "- **min_child_weight[default=1][range:(0,Inf)]**\n",
    "    In classification, if the leaf node has a minimum sum of instance weight (calculated by second order partial derivative) lower than min_child_weight, the tree splitting stops.\n",
    "\n",
    "- **subsample[default=1][range: (0,1)]**\n",
    "    It controls the number of samples (observations) supplied to a tree.\n",
    "\n",
    "- **colsample_bytree[default=1][range: (0,1)]**\n",
    "    It control the number of features (variables) supplied to a tree\n"
   ]
  },
  {
   "cell_type": "code",
   "execution_count": 33,
   "metadata": {},
   "outputs": [
    {
     "name": "stdout",
     "output_type": "stream",
     "text": [
      "[1]\ttrain-aucpr:0.839960+0.001343\ttest-aucpr:0.836197+0.005185 \n",
      "Multiple eval metrics are present. Will use test_aucpr for early stopping.\n",
      "Will train until test_aucpr hasn't improved in 10 rounds.\n",
      "\n",
      "[2]\ttrain-aucpr:0.866693+0.000943\ttest-aucpr:0.862319+0.004404 \n",
      "[3]\ttrain-aucpr:0.879597+0.002192\ttest-aucpr:0.874592+0.004287 \n",
      "[4]\ttrain-aucpr:0.893161+0.001901\ttest-aucpr:0.887725+0.005180 \n",
      "[5]\ttrain-aucpr:0.899371+0.002058\ttest-aucpr:0.893522+0.005045 \n",
      "[6]\ttrain-aucpr:0.904349+0.001959\ttest-aucpr:0.898035+0.004641 \n",
      "[7]\ttrain-aucpr:0.907712+0.001189\ttest-aucpr:0.900669+0.003811 \n",
      "[8]\ttrain-aucpr:0.910667+0.001820\ttest-aucpr:0.903773+0.003861 \n",
      "[9]\ttrain-aucpr:0.913246+0.001220\ttest-aucpr:0.906370+0.003330 \n",
      "[10]\ttrain-aucpr:0.916639+0.000857\ttest-aucpr:0.909503+0.003716 \n",
      "[11]\ttrain-aucpr:0.919632+0.000730\ttest-aucpr:0.912172+0.003864 \n",
      "[12]\ttrain-aucpr:0.921886+0.000938\ttest-aucpr:0.914173+0.004055 \n",
      "[13]\ttrain-aucpr:0.924051+0.001162\ttest-aucpr:0.915897+0.003903 \n",
      "[14]\ttrain-aucpr:0.925938+0.000666\ttest-aucpr:0.917670+0.004443 \n",
      "[15]\ttrain-aucpr:0.927504+0.000967\ttest-aucpr:0.918926+0.004228 \n",
      "[16]\ttrain-aucpr:0.928980+0.001022\ttest-aucpr:0.920243+0.003906 \n",
      "[17]\ttrain-aucpr:0.930368+0.000962\ttest-aucpr:0.921341+0.003874 \n",
      "[18]\ttrain-aucpr:0.931595+0.001184\ttest-aucpr:0.922349+0.003979 \n",
      "[19]\ttrain-aucpr:0.933088+0.001139\ttest-aucpr:0.923538+0.004153 \n",
      "[20]\ttrain-aucpr:0.934329+0.000995\ttest-aucpr:0.924511+0.004029 \n",
      "[21]\ttrain-aucpr:0.935970+0.000819\ttest-aucpr:0.925850+0.004341 \n",
      "[22]\ttrain-aucpr:0.936824+0.000957\ttest-aucpr:0.926454+0.004211 \n",
      "[23]\ttrain-aucpr:0.937937+0.001072\ttest-aucpr:0.927271+0.004200 \n",
      "[24]\ttrain-aucpr:0.938967+0.001039\ttest-aucpr:0.927959+0.004163 \n",
      "[25]\ttrain-aucpr:0.940311+0.000947\ttest-aucpr:0.928817+0.004305 \n",
      "[26]\ttrain-aucpr:0.941129+0.000771\ttest-aucpr:0.929303+0.004408 \n",
      "[27]\ttrain-aucpr:0.941832+0.000936\ttest-aucpr:0.929815+0.004308 \n",
      "[28]\ttrain-aucpr:0.943002+0.001065\ttest-aucpr:0.930580+0.004261 \n",
      "[29]\ttrain-aucpr:0.943762+0.000865\ttest-aucpr:0.931024+0.004427 \n",
      "[30]\ttrain-aucpr:0.944620+0.000827\ttest-aucpr:0.931647+0.004385 \n",
      "[31]\ttrain-aucpr:0.945270+0.001017\ttest-aucpr:0.932083+0.004405 \n",
      "[32]\ttrain-aucpr:0.946403+0.001040\ttest-aucpr:0.932894+0.004189 \n",
      "[33]\ttrain-aucpr:0.947062+0.001140\ttest-aucpr:0.933391+0.004130 \n",
      "[34]\ttrain-aucpr:0.947747+0.001085\ttest-aucpr:0.933826+0.004288 \n",
      "[35]\ttrain-aucpr:0.948420+0.001201\ttest-aucpr:0.934188+0.004284 \n",
      "[36]\ttrain-aucpr:0.949184+0.001211\ttest-aucpr:0.934754+0.004497 \n",
      "[37]\ttrain-aucpr:0.949811+0.001235\ttest-aucpr:0.935271+0.004575 \n",
      "[38]\ttrain-aucpr:0.950567+0.001296\ttest-aucpr:0.935803+0.004416 \n",
      "[39]\ttrain-aucpr:0.951469+0.001605\ttest-aucpr:0.936604+0.004466 \n",
      "[40]\ttrain-aucpr:0.952332+0.001489\ttest-aucpr:0.937132+0.004654 \n",
      "[41]\ttrain-aucpr:0.952904+0.001533\ttest-aucpr:0.937406+0.004587 \n",
      "[42]\ttrain-aucpr:0.953417+0.001233\ttest-aucpr:0.937648+0.004615 \n",
      "[43]\ttrain-aucpr:0.953989+0.001437\ttest-aucpr:0.938065+0.004533 \n",
      "[44]\ttrain-aucpr:0.954729+0.001324\ttest-aucpr:0.938562+0.004463 \n",
      "[45]\ttrain-aucpr:0.955491+0.001494\ttest-aucpr:0.939215+0.004567 \n",
      "[46]\ttrain-aucpr:0.956424+0.001297\ttest-aucpr:0.939985+0.004334 \n",
      "[47]\ttrain-aucpr:0.957176+0.001441\ttest-aucpr:0.940532+0.004318 \n",
      "[48]\ttrain-aucpr:0.957628+0.001425\ttest-aucpr:0.940815+0.004393 \n",
      "[49]\ttrain-aucpr:0.958332+0.001471\ttest-aucpr:0.941161+0.004506 \n",
      "[50]\ttrain-aucpr:0.958874+0.001392\ttest-aucpr:0.941437+0.004580 \n",
      "[51]\ttrain-aucpr:0.959642+0.001412\ttest-aucpr:0.941825+0.004597 \n",
      "[52]\ttrain-aucpr:0.960221+0.001432\ttest-aucpr:0.942247+0.004692 \n",
      "[53]\ttrain-aucpr:0.960861+0.001405\ttest-aucpr:0.942724+0.004605 \n",
      "[54]\ttrain-aucpr:0.961522+0.001614\ttest-aucpr:0.943139+0.004723 \n",
      "[55]\ttrain-aucpr:0.962103+0.001635\ttest-aucpr:0.943562+0.004808 \n",
      "[56]\ttrain-aucpr:0.962655+0.001786\ttest-aucpr:0.943900+0.004755 \n",
      "[57]\ttrain-aucpr:0.963060+0.001768\ttest-aucpr:0.944175+0.004657 \n",
      "[58]\ttrain-aucpr:0.963487+0.001613\ttest-aucpr:0.944428+0.004655 \n",
      "[59]\ttrain-aucpr:0.963926+0.001450\ttest-aucpr:0.944666+0.004560 \n",
      "[60]\ttrain-aucpr:0.964385+0.001637\ttest-aucpr:0.944951+0.004529 \n",
      "[61]\ttrain-aucpr:0.965009+0.001713\ttest-aucpr:0.945433+0.004333 \n",
      "[62]\ttrain-aucpr:0.965499+0.001754\ttest-aucpr:0.945817+0.004073 \n",
      "[63]\ttrain-aucpr:0.965963+0.001897\ttest-aucpr:0.946148+0.004110 \n",
      "[64]\ttrain-aucpr:0.966223+0.001941\ttest-aucpr:0.946346+0.004155 \n",
      "[65]\ttrain-aucpr:0.966680+0.001975\ttest-aucpr:0.946621+0.004277 \n",
      "[66]\ttrain-aucpr:0.967123+0.001948\ttest-aucpr:0.946907+0.004235 \n",
      "[67]\ttrain-aucpr:0.967630+0.001755\ttest-aucpr:0.947264+0.004343 \n",
      "[68]\ttrain-aucpr:0.968113+0.001543\ttest-aucpr:0.947631+0.004307 \n",
      "[69]\ttrain-aucpr:0.968542+0.001429\ttest-aucpr:0.947835+0.004194 \n",
      "[70]\ttrain-aucpr:0.969037+0.001397\ttest-aucpr:0.948161+0.004189 \n",
      "[71]\ttrain-aucpr:0.969573+0.001310\ttest-aucpr:0.948480+0.004216 \n",
      "[72]\ttrain-aucpr:0.969970+0.001400\ttest-aucpr:0.948743+0.004137 \n",
      "[73]\ttrain-aucpr:0.970369+0.001448\ttest-aucpr:0.948973+0.004184 \n",
      "[74]\ttrain-aucpr:0.970666+0.001576\ttest-aucpr:0.949177+0.004220 \n",
      "[75]\ttrain-aucpr:0.971035+0.001606\ttest-aucpr:0.949369+0.004245 \n",
      "[76]\ttrain-aucpr:0.971409+0.001613\ttest-aucpr:0.949632+0.004252 \n",
      "[77]\ttrain-aucpr:0.971751+0.001688\ttest-aucpr:0.949883+0.004346 \n",
      "[78]\ttrain-aucpr:0.972077+0.001629\ttest-aucpr:0.950077+0.004256 \n",
      "[79]\ttrain-aucpr:0.972346+0.001622\ttest-aucpr:0.950264+0.004223 \n",
      "[80]\ttrain-aucpr:0.972676+0.001637\ttest-aucpr:0.950447+0.004226 \n",
      "[81]\ttrain-aucpr:0.973043+0.001602\ttest-aucpr:0.950768+0.004201 \n",
      "[82]\ttrain-aucpr:0.973442+0.001463\ttest-aucpr:0.951020+0.004319 \n",
      "[83]\ttrain-aucpr:0.973816+0.001461\ttest-aucpr:0.951281+0.004305 \n",
      "[84]\ttrain-aucpr:0.974276+0.001435\ttest-aucpr:0.951553+0.004349 \n",
      "[85]\ttrain-aucpr:0.974657+0.001479\ttest-aucpr:0.951784+0.004307 \n",
      "[86]\ttrain-aucpr:0.974900+0.001496\ttest-aucpr:0.951959+0.004332 \n",
      "[87]\ttrain-aucpr:0.975191+0.001493\ttest-aucpr:0.952157+0.004377 \n",
      "[88]\ttrain-aucpr:0.975499+0.001435\ttest-aucpr:0.952296+0.004372 \n",
      "[89]\ttrain-aucpr:0.975844+0.001478\ttest-aucpr:0.952546+0.004334 \n",
      "[90]\ttrain-aucpr:0.976228+0.001476\ttest-aucpr:0.952797+0.004287 \n",
      "[91]\ttrain-aucpr:0.976430+0.001518\ttest-aucpr:0.952942+0.004249 \n",
      "[92]\ttrain-aucpr:0.976778+0.001311\ttest-aucpr:0.953241+0.004198 \n",
      "[93]\ttrain-aucpr:0.977104+0.001231\ttest-aucpr:0.953466+0.004151 \n",
      "[94]\ttrain-aucpr:0.977455+0.001194\ttest-aucpr:0.953842+0.004208 \n",
      "[95]\ttrain-aucpr:0.977793+0.001102\ttest-aucpr:0.954111+0.004073 \n",
      "[96]\ttrain-aucpr:0.978139+0.001065\ttest-aucpr:0.954398+0.004127 \n",
      "[97]\ttrain-aucpr:0.978427+0.001034\ttest-aucpr:0.954627+0.004083 \n",
      "[98]\ttrain-aucpr:0.978762+0.000992\ttest-aucpr:0.954882+0.004074 \n",
      "[99]\ttrain-aucpr:0.978996+0.001008\ttest-aucpr:0.955090+0.004048 \n",
      "[100]\ttrain-aucpr:0.979292+0.001074\ttest-aucpr:0.955286+0.004114 \n"
     ]
    }
   ],
   "source": [
    "params <- list(booster = \"gbtree\", \n",
    "               objective = \"binary:logistic\", \n",
    "               eta=0.3, \n",
    "               gamma=0, \n",
    "               max_depth=6, \n",
    "               min_child_weight=1, \n",
    "               subsample=1, \n",
    "               colsample_bytree=1)\n",
    "\n",
    "\n",
    "xgbcv <- xgb.cv( params = params, \n",
    "                data = dtrain, \n",
    "                nrounds = 100, \n",
    "                nfold = 10, \n",
    "                #metrics='aucpr',\n",
    "                eval_metric='aucpr',\n",
    "                showsd = T, \n",
    "                stratified = T, \n",
    "                early_stopping_rounds = 10, \n",
    "                maximize = T\n",
    "               )"
   ]
  },
  {
   "cell_type": "code",
   "execution_count": 35,
   "metadata": {},
   "outputs": [
    {
     "data": {
      "image/png": "[encoded data removed]",
      "text/plain": [
       "plot without title"
      ]
     },
     "metadata": {},
     "output_type": "display_data"
    }
   ],
   "source": [
    "xgbcv_aucpr<-xgbcv$evaluation_log %>%\n",
    "  select(iter,train_aucpr_mean,test_aucpr_mean)\n",
    "# Long format\n",
    "g2 <- melt(xgbcv_aucpr, id.vars = c(\"iter\"))\n",
    "ggplot(g2, aes(x = iter, y = value, color = variable)) +\n",
    "    ggtitle(\"Training Vs Validation AUCPR\") +\n",
    "  geom_line()+ylab(\"AUCPR\")"
   ]
  },
  {
   "cell_type": "markdown",
   "metadata": {},
   "source": [
    "## Test"
   ]
  },
  {
   "cell_type": "code",
   "execution_count": 36,
   "metadata": {},
   "outputs": [
    {
     "name": "stdout",
     "output_type": "stream",
     "text": [
      "[1]\tval-aucpr:0.832491\ttrain-aucpr:0.840309 \n",
      "Multiple eval metrics are present. Will use train_aucpr for early stopping.\n",
      "Will train until train_aucpr hasn't improved in 10 rounds.\n",
      "\n",
      "[2]\tval-aucpr:0.857362\ttrain-aucpr:0.866145 \n",
      "[3]\tval-aucpr:0.870280\ttrain-aucpr:0.879727 \n",
      "[4]\tval-aucpr:0.881770\ttrain-aucpr:0.892849 \n",
      "[5]\tval-aucpr:0.888751\ttrain-aucpr:0.897319 \n",
      "[6]\tval-aucpr:0.892996\ttrain-aucpr:0.902137 \n",
      "[7]\tval-aucpr:0.895384\ttrain-aucpr:0.905730 \n",
      "[8]\tval-aucpr:0.898901\ttrain-aucpr:0.909456 \n",
      "[9]\tval-aucpr:0.904745\ttrain-aucpr:0.915163 \n",
      "[10]\tval-aucpr:0.908042\ttrain-aucpr:0.918544 \n",
      "[11]\tval-aucpr:0.908869\ttrain-aucpr:0.919910 \n",
      "Stopping. Best iteration:\n",
      "[1]\tval-aucpr:0.832491\ttrain-aucpr:0.840309\n",
      "\n"
     ]
    }
   ],
   "source": [
    "xgb1 <- xgb.train (params = params, \n",
    "                   data = dtrain, \n",
    "                   nrounds = 100, \n",
    "                   watchlist = list(val=dtest,train=dtrain), \n",
    "                   early_stopping_rounds= 10, \n",
    "                   maximize = F , \n",
    "                   eval_metric = \"aucpr\")\n",
    "xgbpred <- predict (xgb1,dtest)\n",
    "xgbpred <- ifelse (xgbpred > 0.5,1,0)"
   ]
  },
  {
   "cell_type": "code",
   "execution_count": 37,
   "metadata": {},
   "outputs": [
    {
     "data": {
      "text/plain": [
       "Confusion Matrix and Statistics\n",
       "\n",
       "          Reference\n",
       "Prediction     0     1\n",
       "         0 10735  1263\n",
       "         1   408  2630\n",
       "                                          \n",
       "               Accuracy : 0.8889          \n",
       "                 95% CI : (0.8837, 0.8938)\n",
       "    No Information Rate : 0.7411          \n",
       "    P-Value [Acc > NIR] : < 2.2e-16       \n",
       "                                          \n",
       "                  Kappa : 0.6881          \n",
       "                                          \n",
       " Mcnemar's Test P-Value : < 2.2e-16       \n",
       "                                          \n",
       "            Sensitivity : 0.6756          \n",
       "            Specificity : 0.9634          \n",
       "         Pos Pred Value : 0.8657          \n",
       "         Neg Pred Value : 0.8947          \n",
       "              Precision : 0.8657          \n",
       "                 Recall : 0.6756          \n",
       "                     F1 : 0.7589          \n",
       "             Prevalence : 0.2589          \n",
       "         Detection Rate : 0.1749          \n",
       "   Detection Prevalence : 0.2020          \n",
       "      Balanced Accuracy : 0.8195          \n",
       "                                          \n",
       "       'Positive' Class : 1               \n",
       "                                          "
      ]
     },
     "metadata": {},
     "output_type": "display_data"
    }
   ],
   "source": [
    "confusionMatrix(factor(xgbpred),factor(y_test),mode = \"everything\", positive=\"1\")"
   ]
  },
  {
   "cell_type": "code",
   "execution_count": 38,
   "metadata": {},
   "outputs": [
    {
     "name": "stderr",
     "output_type": "stream",
     "text": [
      "Best F1 Score for Test:0.75\n"
     ]
    }
   ],
   "source": [
    "message(\"Best F1 Score for Test:\", 0.75)"
   ]
  },
  {
   "cell_type": "markdown",
   "metadata": {},
   "source": [
    "## Variable Importance"
   ]
  },
  {
   "cell_type": "code",
   "execution_count": 39,
   "metadata": {},
   "outputs": [
    {
     "data": {
      "image/png": "[encoded data removed]",
      "text/plain": [
       "plot without title"
      ]
     },
     "metadata": {},
     "output_type": "display_data"
    }
   ],
   "source": [
    "mat <- xgb.importance (feature_names = colnames(X_train),model = xgb1)\n",
    "xgb.plot.importance (importance_matrix = mat[1:20]) "
   ]
  },
  {
   "cell_type": "code",
   "execution_count": null,
   "metadata": {},
   "outputs": [],
   "source": []
  }
 ],
 "metadata": {
  "kernelspec": {
   "display_name": "R",
   "language": "R",
   "name": "ir"
  },
  "language_info": {
   "codemirror_mode": "r",
   "file_extension": ".r",
   "mimetype": "text/x-r-source",
   "name": "R",
   "pygments_lexer": "r",
   "version": "3.6.1"
  }
 },
 "nbformat": 4,
 "nbformat_minor": 4
}
